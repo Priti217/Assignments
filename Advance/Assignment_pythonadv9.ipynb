{
 "cells": [
  {
   "cell_type": "markdown",
   "id": "9b0e51e8",
   "metadata": {},
   "source": [
    "## Q.1. In Python 3.X, what are the names and functions of string object types?\n",
    "### Solution:-\n",
    "The following are the names and functions of string object types in Python 3.X\n",
    "\n",
    "   * __< stirng >.isdecimal()__ -> Returns True if all characters in a string are decimal.\n",
    "   *__< string>.isalnum()__ -> Returns True if all characters in the string are AlphaNumeric.\n",
    "   *__< string>.istitle()__ -> Returns True if first character in a string is in Uppercase.\n",
    "   *__< string>.partition(< sub_string>)__ -> Splits string at first occurance of sub string and returns a tuple of 3 elements.\n",
    "   *__< string>.rpartition(< sub_string>)__ -> Splits string at last occurance of sub string and returns a tuple of 3 elements.\n",
    "   *__< string>.isidentifier()__ -> Returns True if give string is a valid identifier name.\n",
    "   *__len(< string>)__ -> Returns the length of the given string.\n",
    "   *__< string>.index(< sub_string>)__ -> Returns the lowest index of substring if substring is found in the string.\n",
    "   *__< string>.rindex(< sub_string>)__ -> Returns the highest index of substring if substring is found in the string.\n",
    "   *__max(< string>)__ -> Returns the highest Alphabetical Character in the string as per ASCII.\n",
    "   *__min(< string>)__ -> Returns the lowest Alphabetical Character in the string as per ASCII.\n",
    "   *__< string>.splitlines()__ -> Returns a list of lines in the string.\n",
    "   *__< string>.capitalize()__ -> Returns the string with first character capitalized.\n",
    "   *__< string>.upper()__ -> Returns the string with all characters in uppercase.\n",
    "   *__< string>.lower()__ -> Returns the string with all characters in lowercase\n",
    "   *__< string>.casefold()__ -> Returns the string in lowercase which can be used for caseless comparisions.\n",
    "   *__< string>.expandtabs(no_of_spaces)__ -> Replaces tabs in a string with specified no of spaces default is 8\n",
    "   *__< string>.find(< sub_string>)__ -> Returns lowest index of substring if substring is found in the string else returns -1.\n",
    "   *__< string>.rfind(< sub_string>)__ -> Returns highest index of substring if substring is found in the string else returns -1.\n",
    "   *__< string>.count(< char>)__ -> Returns the no of occurances of the char in the given string.\n",
    "   *__< string>.split(< sep>)__ -> Returns list of words seperated by given sep else seperated by whitespace.\n",
    "   *__< string>.rsplit(< sep>)__ -> Returns list of words seperated by given sep else seperated by whitespace scanning from end.\n",
    "   *__< string>.lstrip()__ -> Returns a copy of where leading whitespaces are removed.\n",
    "   *__< string>.rstrip()__ -> Returns a copy of where trailed whitespaces are removed.\n",
    "   *__< string>.strip()__ -> Returns a copy of where both leading and trailing whitespaces are removed.\n",
    "   *__< string>.swapcase()__ -> Swaps lowercase characters with uppercase and vice versa.\n",
    "   *__< sep>.join(< list>)__ -> Concatenates a list or tuple of words with intervening occuernces of sep.\n",
    "   *__< string>.translate(< mapping_table>)__ -> translates the characters using table.\n",
    "   *__< string>.maketrans(< dict>)__ -> Creating a mapping translation tbale usable for                      *__< string>.translate(< mapping_table>)__\n",
    "   *__< string>.replace(< char_1>,< char_2>)__ -> Replace all occurances of char_1 with char_2 in string.\n",
    "   *__< string>.encode()__ -> Encodes string into any encoding supported by python. Default encoding is UTF-8.\n",
    "   *__< string>.ljust(< no_of_spaces>)__ -> Left-justify in a field of given width.\n",
    "   *__< string>.rjust(< no_of_spaces>)__ -> Right-justify in a field of given width.\n",
    "   *__< string>.center(< no_of_spaces>)__ -> Center-justify in a field of given width.\n",
    "<stirng>.zfill(<length>) -> Zfill adds zeros to the begining of string until the specified length is reached."
   ]
  },
  {
   "cell_type": "code",
   "execution_count": 1,
   "id": "dd023ee3",
   "metadata": {},
   "outputs": [
    {
     "name": "stdout",
     "output_type": "stream",
     "text": [
      "True\n",
      "True\n",
      "True\n",
      "('\"I could eat ', 'bananas', ' all day, bananas are my favorite fruit\"')\n",
      "('\"I could eat bananas all day, ', 'bananas', ' are my favorite fruit\"')\n",
      "True\n",
      "17\n",
      "1\n",
      "6\n",
      "t\n",
      "A\n",
      "['Python ', ' Advance ', ' Assignment ']\n",
      "Finding nemo\n",
      "DATAPIPELINES\n",
      "mlops\n",
      "doloris jane umbridge\n",
      "Data science    Data Analyst\n",
      "1\n",
      "6\n",
      "2\n",
      "['i', 'euro', '']\n",
      "['i', 'euro', '']\n",
      "EDA \n",
      " EDA\n",
      "EDA\n",
      "eXPLORATORY dATA aNALYSIS\n",
      "Iris_flower_Dataset\n",
      "Hello Pumit!\n",
      "Hello Pumit!\n",
      "I2euro2\n",
      "b'Natural Language Processing'\n",
      "Nemo      \n",
      "      Nemo\n",
      "   Nemo   \n",
      "00000Hello\n"
     ]
    }
   ],
   "source": [
    "print('1234567890'.isdecimal())\n",
    "print('PythonAssignment'.isalnum())\n",
    "print('Python Assignemnt'.istitle())\n",
    "print('\"I could eat bananas all day, bananas are my favorite fruit\"'.partition('bananas'))\n",
    "print('\"I could eat bananas all day, bananas are my favorite fruit\"'.rpartition('bananas'))\n",
    "print('Postman'.isidentifier())\n",
    "print(len('Linear Regression'))\n",
    "print('Ineuron'.index('n'))\n",
    "print('Ineuron'.rindex('n'))\n",
    "print(max('Data_Scientist'))\n",
    "print(min('Data_Analyst'))\n",
    "print('Python \\n Advance \\n Assignment '.splitlines())\n",
    "print('finding nemo'.capitalize())\n",
    "print('datapipelines'.upper())\n",
    "print('MLOPS'.lower())\n",
    "print('Doloris Jane Umbridge'.casefold())\n",
    "print('Data science\\tData Analyst'.expandtabs(8))\n",
    "print('Ineuron'.find('n'))\n",
    "print('Ineuron'.rfind('n'))\n",
    "print('Transformers'.count('s'))\n",
    "print('ineuron'.split('n'))\n",
    "print('ineuron'.rsplit('n'))\n",
    "print(' EDA '.lstrip())\n",
    "print(' EDA '.rstrip())\n",
    "print(' EDA '.strip())\n",
    "print('Exploratory Data Analysis'.swapcase())\n",
    "print('_'.join(['Iris','flower','Dataset']))\n",
    "\n",
    "mydict = {83:  80}\n",
    "print(\"Hello Sumit!\".translate(mydict))\n",
    "\n",
    "txt = \"Hello Sumit!\"\n",
    "mytable = txt.maketrans(\"S\", \"P\")\n",
    "print(txt.translate(mytable))\n",
    "\n",
    "print('Ineuron'.replace('n','2'))\n",
    "print('Natural Language Processing'.encode())\n",
    "print('Nemo'.ljust(10))\n",
    "print('Nemo'.rjust(10))\n",
    "print('Nemo'.center(10))\n",
    "print('Hello'.zfill(10))"
   ]
  },
  {
   "cell_type": "markdown",
   "id": "a29ddbc8",
   "metadata": {},
   "source": [
    "## =================================================================="
   ]
  },
  {
   "cell_type": "markdown",
   "id": "9bb59151",
   "metadata": {},
   "source": [
    "## Q.2. How do the string forms in Python 3.X vary in terms of operations?\n",
    "### Solution:- \n",
    "In Python3 default format of strings is Unicode Whereas in Pyton2 we need to explicitly mention Unicode value using u."
   ]
  },
  {
   "cell_type": "markdown",
   "id": "da68b1dd",
   "metadata": {},
   "source": [
    "## =================================================================="
   ]
  },
  {
   "cell_type": "markdown",
   "id": "60c644ab",
   "metadata": {},
   "source": [
    "## Q.3. In Python 3.X, how do you put non-ASCII Unicode characters in a string?\n",
    "### Solution:-\n",
    "In Python 3.x unidecode() method from unidecode library can be used to put non-ASCII Unicode Characters in a string."
   ]
  },
  {
   "cell_type": "code",
   "execution_count": 2,
   "id": "482f84de",
   "metadata": {},
   "outputs": [
    {
     "name": "stdout",
     "output_type": "stream",
     "text": [
      "kozuscek\n",
      "aap niice apnii bhaassaa aur inputt upkrnn cuneN aur likhnaa aarNbh kreN\n",
      "Xie Xie Ni \n",
      "arigatou. \n",
      "ulybat'sia Vladimir Putin\n"
     ]
    }
   ],
   "source": [
    "from unidecode import unidecode\n",
    "print(unidecode(u'ko\\u017eu\\u0161\\u010dek'))\n",
    "print(unidecode(\"आप नीचे अपनी भाषा और इनपुट उपकरण चुनें और लिखना आरंभ करें\"))\n",
    "print(unidecode(\"谢谢你\"))\n",
    "print(unidecode(\"ありがとう。\"))\n",
    "print(unidecode(\"улыбаться Владимир Путин\"))"
   ]
  },
  {
   "cell_type": "markdown",
   "id": "402171ec",
   "metadata": {},
   "source": [
    "## =================================================================="
   ]
  },
  {
   "cell_type": "markdown",
   "id": "5b3bb90b",
   "metadata": {},
   "source": [
    "## Q4. In Python 3.X, what are the key differences between text-mode and binary-mode files?\n",
    "### Solution:-\n",
    "The major difference between these two is that a text file contains textual information in the form of alphabets, digits and special characters or symbols. On the other hand, a binary file contains bytes or a compiled version of a text file.\n",
    "\n",
    "When a file is opened in __text mode__, reading its data automatically decodes its content (as per the platform default or as per provided encoding), and returns it as a __str__; writing operation takes a __str__, and automatically encodes it before transferring to the file. Text mode files also support universal end-of-line translation, and encoding specification arguments.\n",
    "\n",
    "When a file is opened in __binary mode__ by adding a __b__ to the mode string argument in the open() call, reading its data does not decode it in any way, and simply returns its content raw and unchanged, as a bytes object; writing takes a bytes object and transfers it to the file unchanged. Binary-mode files also accept a bytearray object for the content to be written to the file."
   ]
  },
  {
   "cell_type": "markdown",
   "id": "5ec4e061",
   "metadata": {},
   "source": [
    "## =================================================================="
   ]
  },
  {
   "cell_type": "markdown",
   "id": "319eb92d",
   "metadata": {},
   "source": [
    "## Q.5. How can you interpret a Unicode text file containing text encoded in a different encoding than your platform's default?\n",
    "### Solution:-\n",
    "Use of __encode()__ and __decode()__ method can be used to you interpret a Unicode text file containing text encoded in a different encoding than your platform's default, by default encoding parameter is __UTF-8__"
   ]
  },
  {
   "cell_type": "markdown",
   "id": "7182f74d",
   "metadata": {},
   "source": [
    "## =================================================================="
   ]
  },
  {
   "cell_type": "markdown",
   "id": "0af126b1",
   "metadata": {},
   "source": [
    "## Q.6. What is the best way to make a Unicode text file in a particular encoding format?\n",
    "### Solution:-\n",
    "Use __str.encode()__ and __file.write()__ to make a Unicode text file in a particular encoding format, default encoding format is __UTF-18__.\n",
    "\n",
    "   * Call __str.encode(encoding)__ with encoding set to __utf8__ to encode str.\n",
    "   * Call __open(file, mode)__ to open a file with mode set to __wb . wb__ writes to files in binary mode & preserves UTF-8format.\n",
    "   * Call __file.write(data)__ to write data to the file."
   ]
  },
  {
   "cell_type": "code",
   "execution_count": 3,
   "id": "11e09009",
   "metadata": {},
   "outputs": [
    {
     "name": "stdout",
     "output_type": "stream",
     "text": [
      "b'\\xd1\\x83\\xd0\\xbb\\xd1\\x8b\\xd0\\xb1\\xd0\\xb0\\xd1\\x82\\xd1\\x8c\\xd1\\x81\\xd1\\x8f \\xd0\\x92\\xd0\\xbb\\xd0\\xb0\\xd0\\xb4\\xd0\\xb8\\xd0\\xbc\\xd0\\xb8\\xd1\\x80 \\xd0\\x9f\\xd1\\x83\\xd1\\x82\\xd0\\xb8\\xd0\\xbd'\n",
      "\n",
      "b'\\xd1\\x83\\xd0\\xbb\\xd1\\x8b\\xd0\\xb1\\xd0\\xb0\\xd1\\x82\\xd1\\x8c\\xd1\\x81\\xd1\\x8f \\xd0\\x92\\xd0\\xbb\\xd0\\xb0\\xd0\\xb4\\xd0\\xb8\\xd0\\xbc\\xd0\\xb8\\xd1\\x80 \\xd0\\x9f\\xd1\\x83\\xd1\\x82\\xd0\\xb8\\xd0\\xbd'\n"
     ]
    }
   ],
   "source": [
    "unicode_text = u\"улыбаться Владимир Путин\"\n",
    "encoded_unicode_text = unicode_text.encode(\"utf-8\")\n",
    "print(encoded_unicode_text,end=\"\\n\\n\")\n",
    "\n",
    "w_file = open(\"w_file.txt\",\"wb\")\n",
    "w_file.write(encoded_unicode_text)\n",
    "w_file.close()\n",
    "\n",
    "r_file = open(\"w_file.txt\",\"rb\")\n",
    "data = r_file.read()\n",
    "print(data)"
   ]
  },
  {
   "cell_type": "markdown",
   "id": "b4ba5cfe",
   "metadata": {},
   "source": [
    "## =================================================================="
   ]
  },
  {
   "cell_type": "markdown",
   "id": "392c3e6d",
   "metadata": {},
   "source": [
    "## Q.7. What qualifies ASCII text as a form of Unicode text?\n",
    "### Solution:-\n",
    "__Unicode__ represents most written languages in the world. __ASCII__ has its equivalent in Unicode. The difference between ASCII and Unicode is that ASCII represents lowercase letters (a-z), uppercase letters (A-Z), digits (0–9) and symbols such as punctuation marks while Unicode represents letters of English, Arabic, Greek etc. mathematical symbols, historical scripts, emoji covering a wide range of characters than ASCII."
   ]
  },
  {
   "cell_type": "markdown",
   "id": "890b865c",
   "metadata": {},
   "source": [
    "## =================================================================="
   ]
  },
  {
   "cell_type": "markdown",
   "id": "0e345021",
   "metadata": {},
   "source": [
    "## Q.8. How much of an effect does the change in string types in Python 3.X have on your code?\n",
    "### Solution:-\n",
    "Python 3 stores strings as Unicode by default whereas Python 2 requires you to mark a string with a __u__ if you want to store it as Unicode. Unicode strings are more versatile than ASCII strings, which are the Python 3.X default, as they can store letters from foreign languages as well as emoji and the standard Roman letters and numerals."
   ]
  },
  {
   "cell_type": "markdown",
   "id": "26a5a6ea",
   "metadata": {},
   "source": [
    "## =================================================================="
   ]
  },
  {
   "cell_type": "code",
   "execution_count": null,
   "id": "ecbf331d",
   "metadata": {},
   "outputs": [],
   "source": []
  }
 ],
 "metadata": {
  "kernelspec": {
   "display_name": "Python 3 (ipykernel)",
   "language": "python",
   "name": "python3"
  },
  "language_info": {
   "codemirror_mode": {
    "name": "ipython",
    "version": 3
   },
   "file_extension": ".py",
   "mimetype": "text/x-python",
   "name": "python",
   "nbconvert_exporter": "python",
   "pygments_lexer": "ipython3",
   "version": "3.9.12"
  }
 },
 "nbformat": 4,
 "nbformat_minor": 5
}
