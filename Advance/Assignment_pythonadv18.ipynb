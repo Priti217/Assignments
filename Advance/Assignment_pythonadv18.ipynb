{
 "cells": [
  {
   "cell_type": "markdown",
   "id": "4dd53b67",
   "metadata": {},
   "source": [
    "## Q1. Describe the differences between text and binary files in a single paragraph.\n",
    "### Solution:-\n",
    "The differences between Text Files and Binary Files are:\n",
    "\n",
    "__Text files__ are special subset of binary files that are used to store human readable characters as a rich text document or plain text document. Text files also store data in sequential bytes but bits in text file represents characters.\n",
    "\n",
    "__Binary files__ are those typical files that store data in the form of sequence of bytes grouped into eight bits or sometimes sixteen bits. These bits represent custom data and such files can store multiple types of data (images, audio, text, etc) under a single file."
   ]
  },
  {
   "cell_type": "markdown",
   "id": "e697442d",
   "metadata": {},
   "source": [
    "## =================================================================="
   ]
  },
  {
   "cell_type": "markdown",
   "id": "63cebdd5",
   "metadata": {},
   "source": [
    "## Q2. What are some scenarios where using text files will be the better option? When would you like to use binary files instead of text files?\n",
    "### Solution:-\n",
    "Text files are less prone to get corrupted as any undesired change may just show up once the file is opened and then can easily be removed. Whereas Use binary files instead of text files for image data."
   ]
  },
  {
   "cell_type": "markdown",
   "id": "46c09412",
   "metadata": {},
   "source": [
    "## =================================================================="
   ]
  },
  {
   "cell_type": "markdown",
   "id": "2f79cc3c",
   "metadata": {},
   "source": [
    "## Q3. What are some of the issues with using binary operations to read and write a Python integer directly to disc?\n",
    "### Solution:-\n",
    "When we read or write a python integer using binary operations\n",
    "\n",
    "   1. Binary operations deal with raw data\n",
    "   2. One needs to identify how many bytes one would read or write."
   ]
  },
  {
   "cell_type": "markdown",
   "id": "02a174e7",
   "metadata": {},
   "source": [
    "## =================================================================="
   ]
  },
  {
   "cell_type": "markdown",
   "id": "7cac8db2",
   "metadata": {},
   "source": [
    "## Q4. Describe a benefit of using the with keyword instead of explicitly opening a file ?\n",
    "### Solution:-\n",
    "When a file is opened using the __with__ keyword, if some exceptions occur after opening a file, or at the end of the file it automatically does the closing of the file. There by not leaving an file in open mode and there would no need to explicitly close a file."
   ]
  },
  {
   "cell_type": "markdown",
   "id": "7c8f39dd",
   "metadata": {},
   "source": [
    "## =================================================================="
   ]
  },
  {
   "cell_type": "markdown",
   "id": "6d64c121",
   "metadata": {},
   "source": [
    "## Q5. Does Python have the trailing newline while reading a line of text? Does Python append a newline when you write a line of text?\n",
    "### Solution:-\n",
    "Yes, Python have the trailing newline while reading a line of text. When we write a newline has to be provided in python excpicitly."
   ]
  },
  {
   "cell_type": "markdown",
   "id": "b5f2536f",
   "metadata": {},
   "source": [
    "## =================================================================="
   ]
  },
  {
   "cell_type": "markdown",
   "id": "deb1842b",
   "metadata": {},
   "source": [
    "## Q6. What file operations enable for random-access operation?\n",
    "### Solution:-\n",
    "The file operations enable for random-access operation are __seek()__ and __tell()__"
   ]
  },
  {
   "cell_type": "markdown",
   "id": "f25af241",
   "metadata": {},
   "source": [
    "## =================================================================="
   ]
  },
  {
   "cell_type": "markdown",
   "id": "4b563758",
   "metadata": {},
   "source": [
    "## Q7. When do you think you'll use the struct package the most?\n",
    "### Solution:-\n",
    "The __struct__ package is mostly used while converting a common python types into __C__ language types."
   ]
  },
  {
   "cell_type": "markdown",
   "id": "34e00c62",
   "metadata": {},
   "source": [
    "## =================================================================="
   ]
  },
  {
   "cell_type": "markdown",
   "id": "62476286",
   "metadata": {},
   "source": [
    "## Q8. When is pickling the best option?\n",
    "### Solution:-\n",
    "Pickling is best option for creating a new binary file using python"
   ]
  },
  {
   "cell_type": "markdown",
   "id": "7e1ab13c",
   "metadata": {},
   "source": [
    "## =================================================================="
   ]
  },
  {
   "cell_type": "markdown",
   "id": "21cc91df",
   "metadata": {},
   "source": [
    "## Q9. When will it be best to use the shelve package?\n",
    "### Solution:-\n",
    "__Shelve__ package is used to pickle data but treats the entire file as dictionary."
   ]
  },
  {
   "cell_type": "markdown",
   "id": "5126c60b",
   "metadata": {},
   "source": [
    "## =================================================================="
   ]
  },
  {
   "cell_type": "markdown",
   "id": "1d8a4075",
   "metadata": {},
   "source": [
    "## Q10. What is a special restriction when using the shelve package, as opposed to using other data dictionaries?\n",
    "### Solution:-\n",
    "Only string data type can be used as key in this special dictionary object, whereas any picklable Python object can be used as value."
   ]
  },
  {
   "cell_type": "markdown",
   "id": "e9a6bfa6",
   "metadata": {},
   "source": [
    "## =================================================================="
   ]
  },
  {
   "cell_type": "code",
   "execution_count": null,
   "id": "77dbb33f",
   "metadata": {},
   "outputs": [],
   "source": []
  }
 ],
 "metadata": {
  "kernelspec": {
   "display_name": "Python 3 (ipykernel)",
   "language": "python",
   "name": "python3"
  },
  "language_info": {
   "codemirror_mode": {
    "name": "ipython",
    "version": 3
   },
   "file_extension": ".py",
   "mimetype": "text/x-python",
   "name": "python",
   "nbconvert_exporter": "python",
   "pygments_lexer": "ipython3",
   "version": "3.9.12"
  }
 },
 "nbformat": 4,
 "nbformat_minor": 5
}
