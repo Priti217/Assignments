{
 "cells": [
  {
   "cell_type": "markdown",
   "id": "b816a20e",
   "metadata": {},
   "source": [
    "## Q1. What is the benefit of regular expressions?\n",
    "### Solution:-\n",
    "Regular Expressions, also known as __regex__ or __regexp__, are used to match strings of text such as particular characters, words, or patterns of characters. It means that we can match and extract any string pattern from the text with the help of regular expressions. it helps the programmers to Write less and cleaner code. it also avoids multiple use of __if/else__ statements."
   ]
  },
  {
   "cell_type": "markdown",
   "id": "a93c4357",
   "metadata": {},
   "source": [
    "## ===================================================================="
   ]
  },
  {
   "cell_type": "markdown",
   "id": "123b5443",
   "metadata": {},
   "source": [
    "## Q2. Describe the difference between the effects of \"(ab)c+\" and \"a(bc)+\" Which of these, if any, is the unqualified pattern \"abc+\"?\n",
    "### Solution:-\n",
    "Both __(ab)c+__ and __a(bc)+__ are valid patterns. the difference between both these patterns is in __(ab)c+ ab__ is group whereas in __a(bc)+ bc__ is a group."
   ]
  },
  {
   "cell_type": "markdown",
   "id": "b1c9db75",
   "metadata": {},
   "source": [
    "## =================================================================="
   ]
  },
  {
   "cell_type": "markdown",
   "id": "8a53b3c9",
   "metadata": {},
   "source": [
    "## Q3. How much do you need to use the following sentence while using regular expressions?\n",
    "__import re__\n",
    "\n",
    "### Solution:-\n",
    "__import re__ statement always has to be imported before using regular expressions."
   ]
  },
  {
   "cell_type": "markdown",
   "id": "31dc4b26",
   "metadata": {},
   "source": [
    "## =================================================================="
   ]
  },
  {
   "cell_type": "markdown",
   "id": "e9f2c084",
   "metadata": {},
   "source": [
    "## Q4. Which characters have special significance in square brackets when expressing a range, and under what circumstances?\n",
    "### Solution:-\n",
    "The Characters __.,*,?,^,or,()__, have a special signiface when used with square brackets. They need not be be explicitly escaped by __\\__ as in case of pattern texts in a raw string."
   ]
  },
  {
   "cell_type": "markdown",
   "id": "8a251c69",
   "metadata": {},
   "source": [
    "## =================================================================="
   ]
  },
  {
   "cell_type": "markdown",
   "id": "668bd01c",
   "metadata": {},
   "source": [
    "## Q5. How does compiling a regular-expression object benefit you?\n",
    "### Solution:-\n",
    "We can Combine a regular expression pattern into pattern Objects.Which can be used for pattern matching. it also helps to search a pattern again without rewritting it."
   ]
  },
  {
   "cell_type": "markdown",
   "id": "c0d50616",
   "metadata": {},
   "source": [
    "## =================================================================="
   ]
  },
  {
   "cell_type": "markdown",
   "id": "cb295690",
   "metadata": {},
   "source": [
    "## Q6. What are some examples of how to use the match object returned by re.match and re.search?\n",
    "### Solution:-\n",
    "The __re.search()__ and __re.match()__ both are functions of re module in python. These functions are very efficient and fast for searching in strings. The function searches for some substring in a string and returns a match object if found, else it returns none.\n",
    "\n",
    "There is a difference between the use of both functions. Both return the first match of a substring found in the string, but __re.match()__ searches only from the beginning of the string and return match object if found. But if a match of substring is found somewhere in the middle of the string, it returns none.\n",
    "\n",
    "While __re.search()__ searches for the whole string even if the string contains multi-lines and tries to find a match of the substring in all the lines of string"
   ]
  },
  {
   "cell_type": "code",
   "execution_count": 1,
   "id": "d799d371",
   "metadata": {},
   "outputs": [
    {
     "name": "stdout",
     "output_type": "stream",
     "text": [
      "<re.Match object; span=(66, 72), match='string'>\n",
      "None\n",
      "<re.Match object; span=(0, 6), match='string'>\n",
      "<re.Match object; span=(0, 6), match='string'>\n"
     ]
    }
   ],
   "source": [
    "import re\n",
    "Substring ='string' \n",
    "String1 ='We are learning regex with geeksforgeeks regex is very useful for string matching. It is fast too.' \n",
    "String2 ='string We are learning regex with geeksforgeeks regex is very useful for string matching. It is fast too.'\n",
    "print(re.search(Substring, String1, re.IGNORECASE))\n",
    "print(re.match(Substring, String1, re.IGNORECASE))\n",
    "print(re.search(Substring, String2, re.IGNORECASE))\n",
    "print(re.match(Substring, String2, re.IGNORECASE))"
   ]
  },
  {
   "cell_type": "markdown",
   "id": "daa56b02",
   "metadata": {},
   "source": [
    "## =================================================================="
   ]
  },
  {
   "cell_type": "markdown",
   "id": "fb37dd6a",
   "metadata": {},
   "source": [
    "## Q7. What is the difference between using a vertical bar (|) as an alteration and using square brackets as a character set?\n",
    "### Solution:-\n",
    "When __|__ us used then patterns searches for __or__ option. i.e __< pattern_1>|< pattern_2>__ means it searches as __< pattern_1>or<< pattern_2>__ in the searched string. the first occurance of matched string will be returned as the Match Object. Using Character set in square Brackets searches for all the character set in the square bracket and if match is found, it returns it."
   ]
  },
  {
   "cell_type": "markdown",
   "id": "e5d5a7e5",
   "metadata": {},
   "source": [
    "## =================================================================="
   ]
  },
  {
   "cell_type": "markdown",
   "id": "f3a3a2a8",
   "metadata": {},
   "source": [
    "## Q8. In regular-expression search patterns, why is it necessary to use the raw-string indicator (r)? In replacement strings?\n",
    "### Solution:-\n",
    "Raw Strings are used in the regular-expression search patterns, so that blackslashes donot have to be escaped."
   ]
  },
  {
   "cell_type": "markdown",
   "id": "bcbff987",
   "metadata": {},
   "source": [
    "## =================================================================="
   ]
  },
  {
   "cell_type": "code",
   "execution_count": null,
   "id": "8f2db245",
   "metadata": {},
   "outputs": [],
   "source": []
  }
 ],
 "metadata": {
  "kernelspec": {
   "display_name": "Python 3 (ipykernel)",
   "language": "python",
   "name": "python3"
  },
  "language_info": {
   "codemirror_mode": {
    "name": "ipython",
    "version": 3
   },
   "file_extension": ".py",
   "mimetype": "text/x-python",
   "name": "python",
   "nbconvert_exporter": "python",
   "pygments_lexer": "ipython3",
   "version": "3.9.12"
  }
 },
 "nbformat": 4,
 "nbformat_minor": 5
}
