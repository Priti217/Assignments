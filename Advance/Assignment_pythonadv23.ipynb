{
 "cells": [
  {
   "cell_type": "markdown",
   "id": "23309eb9",
   "metadata": {},
   "source": [
    "## Q.1. If you have any, what are your choices for increasing the comparison between different figures on the same graph?\n",
    "### Solution:-\n",
    "Matplotlib provides a convenient method called subplots for increasing the comparison between different figures on the same graph. Subplots mean a group of smaller axes (where each axis is a plot) that can exist together within a single figure."
   ]
  },
  {
   "cell_type": "markdown",
   "id": "61804a10",
   "metadata": {},
   "source": [
    "## ===================================================================="
   ]
  },
  {
   "cell_type": "markdown",
   "id": "135645f1",
   "metadata": {},
   "source": [
    "## Q2. Can you explain the benefit of compound interest over a higher rate of interest that does not compound after reading this chapter?\n",
    "### Solution:-\n",
    "Compound interest makes a sum of money grow at a faster rate than simple interest,because in addition to earning returns on the money you invest, you also earn returns on those returns at the end of every compounding period, which could be daily, monthly, quarterly or annually."
   ]
  },
  {
   "cell_type": "markdown",
   "id": "9c19b2c0",
   "metadata": {},
   "source": [
    "## =================================================================="
   ]
  },
  {
   "cell_type": "markdown",
   "id": "14e54fe2",
   "metadata": {},
   "source": [
    "## Q.2. Can you explain the benefit of compound interest over a higher rate of interest that does not compound after reading this chapter?\n",
    "### Solution:-\n",
    "Compound interest makes a sum of money grow at a faster rate than simple interest,because in addition to earning returns on the money you invest, you also earn returns on those returns at the end of every compounding period, which could be daily, monthly, quarterly or annually."
   ]
  },
  {
   "cell_type": "markdown",
   "id": "8d6e501a",
   "metadata": {},
   "source": [
    "## =================================================================="
   ]
  },
  {
   "cell_type": "markdown",
   "id": "ac407320",
   "metadata": {},
   "source": [
    "## Q.3. What is a histogram, exactly? Name a numpy method for creating such a graph ?\n",
    "### Solution:-\n",
    "Histogram shows total values of X wrt Y. Which means at any particular position of X, Y value shows the total number of counts or data below that value of X. numpy.histogram() is the built in function used."
   ]
  },
  {
   "cell_type": "markdown",
   "id": "81676c44",
   "metadata": {},
   "source": [
    "## =================================================================="
   ]
  },
  {
   "cell_type": "markdown",
   "id": "a168d938",
   "metadata": {},
   "source": [
    "## Q.4. If necessary, how do you change the aspect ratios between the X and Y axes ?\n",
    "### Solution:-\n",
    "We can use figure(figsize=(10,8)) function inside the matplot.pyplot library which we scale down or up the graph."
   ]
  },
  {
   "cell_type": "markdown",
   "id": "583c6c8b",
   "metadata": {},
   "source": [
    "## =================================================================="
   ]
  },
  {
   "cell_type": "markdown",
   "id": "fe5f63e0",
   "metadata": {},
   "source": [
    "## Q.5. Compare and contrast the three types of array multiplication between two numpy arrays: dot product, outer product, and regular multiplication of two numpy arrays ?\n",
    "### Solution:-\n",
    "In regular multiplication values of same index get multiplied.\n",
    "\n",
    "   *   In dot product there is row wise multiplication, row of one array with column of second array and so on.\n",
    "   *   In outer multiplication every element of first array a1 will be multiply by every element of other array a2 such such the number of columns will be equal to the number of element in another array a2."
   ]
  },
  {
   "cell_type": "markdown",
   "id": "15e633e1",
   "metadata": {},
   "source": [
    "## =================================================================="
   ]
  },
  {
   "cell_type": "markdown",
   "id": "460f19bd",
   "metadata": {},
   "source": [
    "## Q.6. Before you buy a home, which numpy function will you use to measure your monthly mortgage payment ?\n",
    "### Solution:-\n",
    "np.pmt(rate, nper, pv) function we will be using in order to calculate monthly mortgage payment before you purchase a house.\n",
    "\n",
    "   * rate = The periodic interest rate\n",
    "   * nper = The number of payment periods\n",
    "   * pv = The total value of the mortgage loan"
   ]
  },
  {
   "cell_type": "markdown",
   "id": "ce7cc386",
   "metadata": {},
   "source": [
    "## =================================================================="
   ]
  },
  {
   "cell_type": "markdown",
   "id": "97de7548",
   "metadata": {},
   "source": [
    "## Q.7. Can string data be stored in numpy arrays? If so, list at least one restriction that applies to this data ?\n",
    "### Solution:-\n",
    "Yes, an array can store the string. The limitation which imposed on the string data is, whenever we store the data of string dtype then it should should keep in mind that the string which is having the maximum length is the limit."
   ]
  },
  {
   "cell_type": "markdown",
   "id": "e64105f4",
   "metadata": {},
   "source": [
    "## =================================================================="
   ]
  },
  {
   "cell_type": "code",
   "execution_count": null,
   "id": "00058b31",
   "metadata": {},
   "outputs": [],
   "source": []
  }
 ],
 "metadata": {
  "kernelspec": {
   "display_name": "Python 3 (ipykernel)",
   "language": "python",
   "name": "python3"
  },
  "language_info": {
   "codemirror_mode": {
    "name": "ipython",
    "version": 3
   },
   "file_extension": ".py",
   "mimetype": "text/x-python",
   "name": "python",
   "nbconvert_exporter": "python",
   "pygments_lexer": "ipython3",
   "version": "3.9.12"
  }
 },
 "nbformat": 4,
 "nbformat_minor": 5
}
