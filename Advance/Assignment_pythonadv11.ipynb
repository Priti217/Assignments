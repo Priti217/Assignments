{
 "cells": [
  {
   "cell_type": "markdown",
   "id": "40268740",
   "metadata": {},
   "source": [
    "## Q1. What is the concept of a metaclass?\n",
    "### solution:-\n",
    "Metaclass in Python is a class of a class that defines how a class behaves. A class is itself a instance of Metaclass, and any Instance of Class in Python is an Instance of type metaclass. E.g. Type of of int, str, float, list, tuple and many more is of metaclass type."
   ]
  },
  {
   "cell_type": "markdown",
   "id": "f0858d6c",
   "metadata": {},
   "source": [
    "## ===================================================================="
   ]
  },
  {
   "cell_type": "markdown",
   "id": "226b5730",
   "metadata": {},
   "source": [
    "## Q2. What is the best way to declare a class's metaclass?\n",
    "### Solution:-\n",
    "A way to declare a class’ metaclass is by using __metaclass__ keyword in class definition."
   ]
  },
  {
   "cell_type": "code",
   "execution_count": 1,
   "id": "c4fd8f7c",
   "metadata": {},
   "outputs": [
    {
     "name": "stdout",
     "output_type": "stream",
     "text": [
      "<class 'type'>\n",
      "<class '__main__.meta'>\n"
     ]
    }
   ],
   "source": [
    "class meta(type):\n",
    "    pass\n",
    "class class_meta(metaclass=meta):\n",
    "    pass\n",
    "print(type(meta))\n",
    "print(type(class_meta))"
   ]
  },
  {
   "cell_type": "markdown",
   "id": "4cde1db1",
   "metadata": {},
   "source": [
    "## =================================================================="
   ]
  },
  {
   "cell_type": "markdown",
   "id": "0ac31134",
   "metadata": {},
   "source": [
    "## Q.3. How do class decorators overlap with metaclasses for handling classes ?\n",
    "### Solution:-\n",
    "Anything you can do with a class decorator, you can of course do with a custom metaclasses (just apply the functionality of the \"decorator function\", i.e., the one that takes a class object and modifies it, in the course of the metaclass's __ __new__ __ or __ __init__ __ that make the class object!)."
   ]
  },
  {
   "cell_type": "markdown",
   "id": "fa2500fb",
   "metadata": {},
   "source": [
    "## =================================================================="
   ]
  },
  {
   "cell_type": "markdown",
   "id": "92026e62",
   "metadata": {},
   "source": [
    "## Q4. How do class decorators overlap with metaclasses for handling instances?\n",
    "### Solution:-\n",
    "Anything you can do with a class decorator, you can of course do with a custom metaclass (just apply the functionality of the \"decorator function\", i.e., the one that takes a class object and modifies it, in the course of the metaclass's __ __new__ __ or __ __init__ __ that make the class object!)."
   ]
  },
  {
   "cell_type": "markdown",
   "id": "e06ec86e",
   "metadata": {},
   "source": [
    "## =================================================================="
   ]
  },
  {
   "cell_type": "code",
   "execution_count": null,
   "id": "92ef01fd",
   "metadata": {},
   "outputs": [],
   "source": []
  }
 ],
 "metadata": {
  "kernelspec": {
   "display_name": "Python 3 (ipykernel)",
   "language": "python",
   "name": "python3"
  },
  "language_info": {
   "codemirror_mode": {
    "name": "ipython",
    "version": 3
   },
   "file_extension": ".py",
   "mimetype": "text/x-python",
   "name": "python",
   "nbconvert_exporter": "python",
   "pygments_lexer": "ipython3",
   "version": "3.9.12"
  }
 },
 "nbformat": 4,
 "nbformat_minor": 5
}
