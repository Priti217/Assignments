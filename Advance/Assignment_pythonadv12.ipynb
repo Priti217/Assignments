{
 "cells": [
  {
   "cell_type": "markdown",
   "id": "fa420d9e",
   "metadata": {},
   "source": [
    "## Q1. Does assigning a value to a string's indexed character violate Python's string immutability ?\n",
    "### Solution:-\n",
    "String’s indexed character cannot to be assigned a New value , as Strings are __immutable__.\n",
    "\n",
    "    Example:\n",
    "    name = \"Reinforcement\"\n",
    "    print(id(name)) #73472\n",
    "    name[0] = \"V\" # Raises TypeError"
   ]
  },
  {
   "cell_type": "markdown",
   "id": "6ac5ac3b",
   "metadata": {},
   "source": [
    "## =================================================================="
   ]
  },
  {
   "cell_type": "markdown",
   "id": "50afb7c5",
   "metadata": {},
   "source": [
    "## Q2. Does using the += operator to concatenate strings violate Python's string immutability? Why or why not ?\n",
    "### Solution:-\n",
    "__+=__ operator is used to concatenate strings, it does not violate Python’s string immutability Property. Because doing so new creates a new association with data and variable. E.g. str_1=\"a\" and str_1+=\"b. effect of this statements to create string ab and reassign it to variable str_1, any string data is not actually modified."
   ]
  },
  {
   "cell_type": "code",
   "execution_count": 1,
   "id": "fe84997c",
   "metadata": {},
   "outputs": [
    {
     "name": "stdout",
     "output_type": "stream",
     "text": [
      "2398711174768\n",
      "2396644500784\n"
     ]
    }
   ],
   "source": [
    "str_1 = 'a'\n",
    "print(id(str_1))\n",
    "str_1 += 'b'\n",
    "print(id(str_1)) # Does not Modify existing string, Creates a New String Object"
   ]
  },
  {
   "cell_type": "markdown",
   "id": "f5702200",
   "metadata": {},
   "source": [
    "## =================================================================="
   ]
  },
  {
   "cell_type": "markdown",
   "id": "c9684db5",
   "metadata": {},
   "source": [
    "## Q3. In Python, how many different ways are there to index a character?\n",
    "### Solution:-\n",
    "A Character in string can be indexed using string name followed by index number of character in square bracket. __Positive Indexing__ i.e. first index is 0 an so on, or __Negative Indexing__ i.e. last letter is -1 and so on can be used to index a character"
   ]
  },
  {
   "cell_type": "code",
   "execution_count": 4,
   "id": "de44b5be",
   "metadata": {},
   "outputs": [
    {
     "name": "stdout",
     "output_type": "stream",
     "text": [
      "r e e\n",
      "y r t\n"
     ]
    }
   ],
   "source": [
    "in_string = \"She was Pretty\"\n",
    "print(in_string[9],in_string[10],in_string[2]) # Positive Indexing\n",
    "print(in_string[-1],in_string[-5],in_string[-2]) # Negative Indexing"
   ]
  },
  {
   "cell_type": "markdown",
   "id": "63d98a4b",
   "metadata": {},
   "source": [
    "## =================================================================="
   ]
  },
  {
   "cell_type": "markdown",
   "id": "cc0e5c26",
   "metadata": {},
   "source": [
    "## Q4. What is the relationship between indexing and slicing?\n",
    "### Solution:-\n",
    "We can access elements of sequence datatypes by using slicing and indexing. Indexing is used to obtaining individual element while slicing for sequence of elements."
   ]
  },
  {
   "cell_type": "code",
   "execution_count": 5,
   "id": "c828a082",
   "metadata": {},
   "outputs": [
    {
     "name": "stdout",
     "output_type": "stream",
     "text": [
      "h   a\n",
      "he was Pretty\n"
     ]
    }
   ],
   "source": [
    "in_string = \"She was Pretty\"\n",
    "print(in_string[1],in_string[3],in_string[5]) # Indexing\n",
    "print(in_string[1:15]) # Slicing"
   ]
  },
  {
   "cell_type": "markdown",
   "id": "0cb58dfb",
   "metadata": {},
   "source": [
    "## =================================================================="
   ]
  },
  {
   "cell_type": "markdown",
   "id": "211ab3f6",
   "metadata": {},
   "source": [
    "## Q5. What is an indexed character's exact data type? What is the data form of a slicing-generated substring?\n",
    "### Solution:-\n",
    "Indexed characters and sliced substrings have datatype __String__."
   ]
  },
  {
   "cell_type": "code",
   "execution_count": 6,
   "id": "f79873f6",
   "metadata": {},
   "outputs": [
    {
     "name": "stdout",
     "output_type": "stream",
     "text": [
      "<class 'str'>\n",
      "<class 'str'>\n"
     ]
    }
   ],
   "source": [
    "in_string = \"iNeuron Full Stack Data Science\"\n",
    "print(type(in_string[3])) # Indexing -> str\n",
    "print(type(in_string[1:10])) # Indexing -> str"
   ]
  },
  {
   "cell_type": "markdown",
   "id": "795ea871",
   "metadata": {},
   "source": [
    "## =================================================================="
   ]
  },
  {
   "cell_type": "markdown",
   "id": "df2bfdb9",
   "metadata": {},
   "source": [
    "## Q6. What is the relationship between string and character \"types\" in Python?\n",
    "### Solution:-\n",
    "Object that contains sequence of character datatypes are called String."
   ]
  },
  {
   "cell_type": "markdown",
   "id": "b157f516",
   "metadata": {},
   "source": [
    "## =================================================================="
   ]
  },
  {
   "cell_type": "markdown",
   "id": "c81680cf",
   "metadata": {},
   "source": [
    "## Q7. Identify at least two operators & one method that allow you to combine one or more smaller strings to create a larger string ?\n",
    "### Solution:-\n",
    "__+__ , __+=__ and __*__ allow to combine one or more smaller strings to create a larger string. __< string>.join(< sep>)__ method joins element of iterable type like list and tuple to get a combined string."
   ]
  },
  {
   "cell_type": "code",
   "execution_count": 8,
   "id": "f5dbaa88",
   "metadata": {},
   "outputs": [
    {
     "name": "stdout",
     "output_type": "stream",
     "text": [
      "She was  Pretty\n",
      "Pretty Pretty Pretty \n",
      "S H E\n",
      "s h e\n"
     ]
    }
   ],
   "source": [
    "in_string = 'She '\n",
    "in_string += 'was '\n",
    "print(in_string + ' Pretty')\n",
    "print('Pretty '*3)\n",
    "print(\" \".join(['S','H','E'])) # List Iterable\n",
    "print(\" \".join(('S','H','E')).lower()) # Tuple Iterable"
   ]
  },
  {
   "cell_type": "markdown",
   "id": "f1d33797",
   "metadata": {},
   "source": [
    "## =================================================================="
   ]
  },
  {
   "cell_type": "markdown",
   "id": "e3297d25",
   "metadata": {},
   "source": [
    "## Q8. What is the benefit of first checking the target string with in or not in before using the index method to find a substring ?\n",
    "### Solution:-\n",
    "Checking the target string with __in__ or __not__ Operators before using the index method to find a substring just helps confirming availability of substring and thus avoid raising of __ValueError__.\n",
    "\n",
    "__Example__:\n",
    "\n",
    "    in_string = \"ineuron\"\n",
    "    in_string.index('x') # Raises ValueError\n",
    "    in_string.index('u') # 3"
   ]
  },
  {
   "cell_type": "markdown",
   "id": "ab7ae182",
   "metadata": {},
   "source": [
    "## =================================================================="
   ]
  },
  {
   "cell_type": "markdown",
   "id": "778cf460",
   "metadata": {},
   "source": [
    "## Q9. Which operators and built-in string methods produce simple Boolean (true/false) results?\n",
    "### Solution:-\n",
    "The String Operators and built-in methods to Produce Simple Boolean (True/False) Results are:\n",
    "\n",
    "  * __in__\n",
    "  *__not__ \n",
    "  *__< string>.isalpha()__\n",
    "  *__< string>.isalnum()__\n",
    "  *__< string>.isdecimal()__\n",
    "  *__< string>.isdigit()__\n",
    "  *__< string>.islower()__\n",
    "  *__< string>.isnumeric()__\n",
    "  *__< string>.isprintable()__\n",
    "  *__< string>.isspace()__\n",
    "  *__< string>.istitle()__"
   ]
  },
  {
   "cell_type": "markdown",
   "id": "1c3525a0",
   "metadata": {},
   "source": [
    "## =================================================================="
   ]
  },
  {
   "cell_type": "code",
   "execution_count": null,
   "id": "89202ada",
   "metadata": {},
   "outputs": [],
   "source": []
  }
 ],
 "metadata": {
  "kernelspec": {
   "display_name": "Python 3 (ipykernel)",
   "language": "python",
   "name": "python3"
  },
  "language_info": {
   "codemirror_mode": {
    "name": "ipython",
    "version": 3
   },
   "file_extension": ".py",
   "mimetype": "text/x-python",
   "name": "python",
   "nbconvert_exporter": "python",
   "pygments_lexer": "ipython3",
   "version": "3.9.12"
  }
 },
 "nbformat": 4,
 "nbformat_minor": 5
}
