{
 "cells": [
  {
   "cell_type": "markdown",
   "id": "6d07e1ea",
   "metadata": {},
   "source": [
    "## Q1. What is the purpose of Python&#39;s OOP?\n",
    "\n",
    "### Solution :-\n"
   ]
  },
  {
   "cell_type": "markdown",
   "id": "365e28ae",
   "metadata": {},
   "source": [
    "1. Helps in easy maintenance and modification of existing program.\n",
    "2. It comes up with the following advantages.\n",
    "3. Multiple instances of an object can be made.\n",
    "4. It aims to implement real-world entities like  inheritance,polymorphisms, encapsulation etc. in the programming."
   ]
  },
  {
   "cell_type": "markdown",
   "id": "5ccae52a",
   "metadata": {},
   "source": [
    "### ============================================="
   ]
  },
  {
   "cell_type": "markdown",
   "id": "c279d825",
   "metadata": {},
   "source": [
    "## Q2. Where does an inheritance search look for an attribute?\n",
    "\n",
    "### Solution :-"
   ]
  },
  {
   "cell_type": "markdown",
   "id": "95e556e4",
   "metadata": {},
   "source": [
    " Python searches for an attribute in an upward tree of attributes. it first searches for the attribute in its instance and then looks in the class it is generated from, to all super classes listed in its class header"
   ]
  },
  {
   "cell_type": "markdown",
   "id": "cd44ecd1",
   "metadata": {},
   "source": [
    "### ==========================================="
   ]
  },
  {
   "cell_type": "markdown",
   "id": "99d8833e",
   "metadata": {},
   "source": [
    "## Q3. How do you distinguish between a class object and an instance object?\n",
    "\n",
    "### Solution :-"
   ]
  },
  {
   "cell_type": "markdown",
   "id": "1afd895c",
   "metadata": {},
   "source": [
    "1. Class is a template for creating objects whereas object is an instance of class\n",
    "2. Seperate memory is allocated for each object whenever an object is created. but for a class this doesnot happens.\n",
    "3. A Class is created once. Many objects are created using a class.\n",
    "4. As Classes have no allocated memory. they can't be manipulated. but objects can be manipulated"
   ]
  },
  {
   "cell_type": "markdown",
   "id": "0b009c45",
   "metadata": {},
   "source": [
    "### ============================================"
   ]
  },
  {
   "cell_type": "markdown",
   "id": "c3e4377b",
   "metadata": {},
   "source": [
    "## Q4. What makes the first argument in a class’s method function special?\n",
    "\n",
    "### Solution :-"
   ]
  },
  {
   "cell_type": "markdown",
   "id": "003f31da",
   "metadata": {},
   "source": [
    "1. Instance Methods (object level methods)\n",
    "2. Class Methods (class level methods)\n",
    "3. Static Methods (general utility methods)\n",
    "4. self is the first argument for instance methods. which refers to the object itself\n",
    "5. cls is the first argument for class methods which refers to the class itself"
   ]
  },
  {
   "cell_type": "markdown",
   "id": "98120775",
   "metadata": {},
   "source": [
    "### =============================================="
   ]
  },
  {
   "cell_type": "markdown",
   "id": "4faf5f32",
   "metadata": {},
   "source": [
    "## Q5. What is the purpose of the __init__ method?\n",
    "### Solution :-"
   ]
  },
  {
   "cell_type": "markdown",
   "id": "95e6acf8",
   "metadata": {},
   "source": [
    " This method is called when an object is created from a class and it allows the class to initialize the attributes of the class . It serves the role of constructor\n",
    " "
   ]
  },
  {
   "cell_type": "markdown",
   "id": "b287a416",
   "metadata": {},
   "source": [
    "### ============================================="
   ]
  },
  {
   "cell_type": "markdown",
   "id": "d2e31eb0",
   "metadata": {},
   "source": [
    "## Q6. What is the process for creating a class instance?\n",
    "\n",
    "### Solution :-"
   ]
  },
  {
   "cell_type": "markdown",
   "id": "b6c5c01f",
   "metadata": {},
   "source": [
    " To create a class instance, we need to call the class by its name and pass the arguments to the class, which its init method accepts."
   ]
  },
  {
   "cell_type": "markdown",
   "id": "82edd6ba",
   "metadata": {},
   "source": [
    "## ====================================="
   ]
  },
  {
   "cell_type": "markdown",
   "id": "0c4e38e4",
   "metadata": {},
   "source": [
    "## Q7. What is the process for creating a class?\n",
    "\n",
    "### Solution"
   ]
  },
  {
   "cell_type": "markdown",
   "id": "c8bb71ca",
   "metadata": {},
   "source": [
    "class keyword is used to created a class in python. The syntax to create a class in python is class <classname>:"
   ]
  },
  {
   "cell_type": "markdown",
   "id": "c98b1e11",
   "metadata": {},
   "source": [
    "### ============================================"
   ]
  },
  {
   "cell_type": "markdown",
   "id": "4b089e86",
   "metadata": {},
   "source": [
    "## Q8. How would you define the superclasses of a class?\n",
    "\n",
    "### Solution :-"
   ]
  },
  {
   "cell_type": "markdown",
   "id": "7e5581e4",
   "metadata": {},
   "source": [
    "Superclass/Parent class is given as a arugment to the child class"
   ]
  },
  {
   "cell_type": "markdown",
   "id": "15b4ef36",
   "metadata": {},
   "source": [
    "## ==================================="
   ]
  },
  {
   "cell_type": "code",
   "execution_count": null,
   "id": "965bb4cc",
   "metadata": {},
   "outputs": [],
   "source": []
  }
 ],
 "metadata": {
  "kernelspec": {
   "display_name": "Python 3 (ipykernel)",
   "language": "python",
   "name": "python3"
  },
  "language_info": {
   "codemirror_mode": {
    "name": "ipython",
    "version": 3
   },
   "file_extension": ".py",
   "mimetype": "text/x-python",
   "name": "python",
   "nbconvert_exporter": "python",
   "pygments_lexer": "ipython3",
   "version": "3.9.12"
  }
 },
 "nbformat": 4,
 "nbformat_minor": 5
}
