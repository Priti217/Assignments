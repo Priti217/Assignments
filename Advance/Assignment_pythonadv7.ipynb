{
 "cells": [
  {
   "cell_type": "markdown",
   "id": "dfeb9b7e",
   "metadata": {},
   "source": [
    "## Q.1. What is the purpose of the try statement?\n",
    "### Solution:-\n",
    "__try__ statement is used for exception handling in python. it consists of a block of risky statements which might cause an exception during runtime. if code within try block raises exception, then the exception will be reverted to the corresponding except block if multiple except blocks are present, else it willbe reverted to the default except block. In short try and except in union avoid programs from crashing during runtime due to exceptions."
   ]
  },
  {
   "cell_type": "code",
   "execution_count": 1,
   "id": "71e304bd",
   "metadata": {},
   "outputs": [
    {
     "name": "stdout",
     "output_type": "stream",
     "text": [
      "Division by Zero is Not Possible\n"
     ]
    }
   ],
   "source": [
    "try:\n",
    "    print(10/0)\n",
    "except ZeroDivisionError:\n",
    "    print('Division by Zero is Not Possible')"
   ]
  },
  {
   "cell_type": "markdown",
   "id": "c13a546e",
   "metadata": {},
   "source": [
    "## =================================================================="
   ]
  },
  {
   "cell_type": "markdown",
   "id": "1dcc8f02",
   "metadata": {},
   "source": [
    "## Q.2. What are the two most popular try statement variations?\n",
    "### Solution:-\n",
    "The Popular try statement variations are:\n",
    "\n",
    "   1.__try__,__except__\n",
    "   \n",
    "   2.__try,except,finally__\n",
    "   \n",
    "   3.__try,except,finally,else__\n",
    "   \n",
    "The __try__ block is used to check code for exceptions during runtime. ie code inside try block will execute completely when there is no error in the program. Whereas the code inside except block will execute whenever the program encounters some error in the preceeding __try__ block.\n",
    "\n",
    "Whereas the code enters the __else__ block if and only if the try clause does not raise and exception. The code in the __finally__ block will execute irrespective of exception."
   ]
  },
  {
   "cell_type": "markdown",
   "id": "93a3c19c",
   "metadata": {},
   "source": [
    "## =================================================================="
   ]
  },
  {
   "cell_type": "markdown",
   "id": "030f16ae",
   "metadata": {},
   "source": [
    "## Q.3. What is the purpose of the raise statement?\n",
    "### Solution:-\n",
    "__raise__ statement is used to trigger an exception explicitly, if a certain condition is not as per requirement of programmer. __raise__ statement helps in triggering exception as per programming logic."
   ]
  },
  {
   "cell_type": "markdown",
   "id": "2b8c8fd6",
   "metadata": {},
   "source": [
    "## =================================================================="
   ]
  },
  {
   "cell_type": "markdown",
   "id": "c8cb1f91",
   "metadata": {},
   "source": [
    "## Q.4. What does the assert statement do, and what other statement is it like?\n",
    "### Solution:-\n",
    "There are few assertions that programmer always want to be true to avoid code failure. This type of requirement is fulfilled by __assert__ statement. This statement takes a boolean condition output of which is True, Further Program Executes. if output of assert statement is False, it raises an Assertion Error."
   ]
  },
  {
   "cell_type": "code",
   "execution_count": 2,
   "id": "7e749917",
   "metadata": {},
   "outputs": [
    {
     "ename": "AssertionError",
     "evalue": "this is not a valid statement",
     "output_type": "error",
     "traceback": [
      "\u001b[1;31m---------------------------------------------------------------------------\u001b[0m",
      "\u001b[1;31mAssertionError\u001b[0m                            Traceback (most recent call last)",
      "Input \u001b[1;32mIn [2]\u001b[0m, in \u001b[0;36m<cell line: 1>\u001b[1;34m()\u001b[0m\n\u001b[1;32m----> 1\u001b[0m \u001b[38;5;28;01massert\u001b[39;00m(\u001b[38;5;241m2\u001b[39m \u001b[38;5;241m==\u001b[39m \u001b[38;5;241m4\u001b[39m), \u001b[38;5;124mf\u001b[39m\u001b[38;5;124m'\u001b[39m\u001b[38;5;124mthis is not a valid statement\u001b[39m\u001b[38;5;124m'\u001b[39m\n",
      "\u001b[1;31mAssertionError\u001b[0m: this is not a valid statement"
     ]
    }
   ],
   "source": [
    "assert(2 == 4), f'this is not a valid statement'"
   ]
  },
  {
   "cell_type": "markdown",
   "id": "41bac1f1",
   "metadata": {},
   "source": [
    "## =================================================================="
   ]
  },
  {
   "cell_type": "markdown",
   "id": "f1a02411",
   "metadata": {},
   "source": [
    "## Q.5. What is the purpose of the with/as argument, and what other statement is it like?\n",
    "### Solution:-\n",
    "__with/as__ statement simplifies use of file handling in python. When we use a __with__ statement for file reading, there is no need for programmer to explicitly takecare of activities like resource deallocation and file closing by using file.close() method. __with__ statement itself ensures proper acquisition and release of resources. this avoids triggering of exceptions if file closing is unknowingly forgotten in the code execution.\n",
    "\n",
    "with open('sample_file.txt','w') as file: file.write('Hello World')"
   ]
  },
  {
   "cell_type": "markdown",
   "id": "69753be8",
   "metadata": {},
   "source": [
    "## =================================================================="
   ]
  },
  {
   "cell_type": "code",
   "execution_count": null,
   "id": "d57860c4",
   "metadata": {},
   "outputs": [],
   "source": []
  }
 ],
 "metadata": {
  "kernelspec": {
   "display_name": "Python 3 (ipykernel)",
   "language": "python",
   "name": "python3"
  },
  "language_info": {
   "codemirror_mode": {
    "name": "ipython",
    "version": 3
   },
   "file_extension": ".py",
   "mimetype": "text/x-python",
   "name": "python",
   "nbconvert_exporter": "python",
   "pygments_lexer": "ipython3",
   "version": "3.9.12"
  }
 },
 "nbformat": 4,
 "nbformat_minor": 5
}
