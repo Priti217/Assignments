{
 "cells": [
  {
   "cell_type": "markdown",
   "id": "904842c1",
   "metadata": {},
   "source": [
    "## Q1. What is the relationship between classes and modules?\n",
    "\n",
    "### Solution :-"
   ]
  },
  {
   "cell_type": "markdown",
   "id": "2b9d4b16",
   "metadata": {},
   "source": [
    "Modules are collections of methods and constants. They cannot generate instances. Classes may generate instances (objects), and have per-instance state (instance variables).Modules may be mixed in to classes and other modules. "
   ]
  },
  {
   "cell_type": "markdown",
   "id": "1934c90d",
   "metadata": {},
   "source": [
    "## ========================================"
   ]
  },
  {
   "cell_type": "markdown",
   "id": "e5572901",
   "metadata": {},
   "source": [
    "## Q2. How do you make instances and classes?\n",
    "\n",
    "### Solution :-"
   ]
  },
  {
   "cell_type": "markdown",
   "id": "f3fd9ca4",
   "metadata": {},
   "source": [
    "For creating a class instance. we call a class by its name and pass the arguments which its __init__ method accepts\n",
    "Example: Here Employee is a class created with class keyword with arguments gender and salary.\n",
    "\n",
    "class Employee: \n",
    "\n",
    "def __init__(self, gender,salary): \n",
    "\n",
    "      self.gender = gender \n",
    "      \n",
    "      self.salary = salary"
   ]
  },
  {
   "cell_type": "markdown",
   "id": "602eea33",
   "metadata": {},
   "source": [
    "## ===================================="
   ]
  },
  {
   "cell_type": "markdown",
   "id": "9e5965fb",
   "metadata": {},
   "source": [
    "## Q3. Where and how should be class attributes created?\n",
    "\n",
    "### Solution :-"
   ]
  },
  {
   "cell_type": "markdown",
   "id": "c7b2d8d4",
   "metadata": {},
   "source": [
    " Class attributes or Class level Attributes belong to the class itself. these attributes will be shared by all the instances of the class. Hence these attributes are usually created/defined in the top of class definiation outside all methods"
   ]
  },
  {
   "cell_type": "markdown",
   "id": "cbf9bedc",
   "metadata": {},
   "source": [
    "## ========================================="
   ]
  },
  {
   "cell_type": "markdown",
   "id": "9094f0c5",
   "metadata": {},
   "source": [
    "## Q4. Where and how are instance attributes created?\n",
    "\n",
    "### Solution :-"
   ]
  },
  {
   "cell_type": "markdown",
   "id": "2ba40063",
   "metadata": {},
   "source": [
    " Instances attributes are passed to the class when an object of the class is created. Unlike class attributes, instance attributes are not shared by all objects of the classs. instead each object maintains its own copy of instance attributes at object level. whereas incase of class attributes all instances of class refer to a single copy. Usually instance attributes are defined within the  __init__  method of class"
   ]
  },
  {
   "cell_type": "markdown",
   "id": "050136ac",
   "metadata": {},
   "source": [
    "## ======================================="
   ]
  },
  {
   "cell_type": "markdown",
   "id": "12e17895",
   "metadata": {},
   "source": [
    "## Q5. What does the term &quot;self&quot; in a Python class mean?\n",
    "\n",
    "### Solution :-"
   ]
  },
  {
   "cell_type": "markdown",
   "id": "2d2c492e",
   "metadata": {},
   "source": [
    "self represents the instance of the class (it represents the object itself). By using the “self” keyword we can access the attributes and methods of the class with in the class in python. It binds the attributes with the given arguments."
   ]
  },
  {
   "cell_type": "markdown",
   "id": "12629f0e",
   "metadata": {},
   "source": [
    "## ========================================="
   ]
  },
  {
   "cell_type": "markdown",
   "id": "e452277f",
   "metadata": {},
   "source": [
    "## Q6. How does a Python class handle operator overloading?\n",
    "\n",
    "### Solution :-"
   ]
  },
  {
   "cell_type": "markdown",
   "id": "b1d0d285",
   "metadata": {},
   "source": [
    "Python Classes handle operator overloading by using special methods called Magic methods. these special methods usually begin and end with __ (double underscore)\n",
    "Example: Magic methods for basic arithmetic operators are:\n",
    "\n",
    "\"+\"  -> __add__()\n",
    "\n",
    "\"-\"  -> __sub__()\n",
    "\n",
    "\"*\"  -> __mul__()\n",
    "\n",
    "\"/\"  -> __div__()"
   ]
  },
  {
   "cell_type": "code",
   "execution_count": 26,
   "id": "206f22af",
   "metadata": {},
   "outputs": [
    {
     "name": "stdout",
     "output_type": "stream",
     "text": [
      "The total number of pages in 2 books is 300\n"
     ]
    }
   ],
   "source": [
    "class Book:\n",
    "    def __init__(self,pages):\n",
    "        self.pages = pages\n",
    "    def __add__(self,other):\n",
    "        return self.pages + other.pages\n",
    "    \n",
    "        \n",
    "b1 = Book(100)\n",
    "b2 = Book(200)\n",
    "print(f'The total number of pages in 2 books is {b1+b2}')"
   ]
  },
  {
   "cell_type": "markdown",
   "id": "4c3b3fdc",
   "metadata": {},
   "source": [
    "## ======================================="
   ]
  },
  {
   "cell_type": "markdown",
   "id": "bc33a6cd",
   "metadata": {},
   "source": [
    "## Q7. When do you consider allowing operator overloading of your classes?\n",
    "\n",
    "### Solution:-"
   ]
  },
  {
   "cell_type": "markdown",
   "id": "e30ea71e",
   "metadata": {},
   "source": [
    "When we want to have different meaning for the same operator accroding to the context we use operator overloading."
   ]
  },
  {
   "cell_type": "markdown",
   "id": "a9e9ece9",
   "metadata": {},
   "source": [
    "## ======================================="
   ]
  },
  {
   "cell_type": "markdown",
   "id": "f0589c0c",
   "metadata": {},
   "source": [
    "## Q8. What is the most popular form of operator overloading?\n",
    "\n",
    "### Solution :-"
   ]
  },
  {
   "cell_type": "markdown",
   "id": "cafcb741",
   "metadata": {},
   "source": [
    "The most popular form of operator overloading in python is by special methods called Magic methods. Which usually beign and end with double underscore __<method name>__."
   ]
  },
  {
   "cell_type": "code",
   "execution_count": 57,
   "id": "ac99e62a",
   "metadata": {},
   "outputs": [
    {
     "name": "stdout",
     "output_type": "stream",
     "text": [
      "Sum -> 3\n",
      "String Concatenation -> Mano Vishnu\n"
     ]
    }
   ],
   "source": [
    "class A:\n",
    "    def __init__(self,a):\n",
    "        self.a = a\n",
    "    def __add__(self,o):\n",
    "        return self.a+o.a\n",
    "    \n",
    "obj1 = A(1)\n",
    "obj2 = A(2)\n",
    "obj3 = A('Mano')\n",
    "obj4 = A(' Vishnu')\n",
    "print(f'Sum -> {obj1+obj2}')\n",
    "print(f'String Concatenation -> {obj3+obj4}')"
   ]
  },
  {
   "cell_type": "markdown",
   "id": "6dd316e3",
   "metadata": {},
   "source": [
    "## =========================================="
   ]
  },
  {
   "cell_type": "markdown",
   "id": "a45f1677",
   "metadata": {},
   "source": [
    "## Q9. What are the two most important concepts to grasp in order to comprehend Python OOP code?\n",
    "\n",
    "### Solution :-"
   ]
  },
  {
   "cell_type": "markdown",
   "id": "93c23b65",
   "metadata": {},
   "source": [
    " Classes and objects are the two concepts to comprehend python OOP code as more formally objects are entities that represent instances of general abstract concept called class\n",
    "\n",
    "Along with classes and objects the important concepts to grasp are:\n",
    "\n",
    "1. Inheritence\n",
    "\n",
    "2. Abstraction\n",
    "\n",
    "3. Polymorphism\n",
    "\n",
    "4. Encapsulation"
   ]
  },
  {
   "cell_type": "code",
   "execution_count": null,
   "id": "cc775db3",
   "metadata": {},
   "outputs": [],
   "source": []
  }
 ],
 "metadata": {
  "kernelspec": {
   "display_name": "Python 3 (ipykernel)",
   "language": "python",
   "name": "python3"
  },
  "language_info": {
   "codemirror_mode": {
    "name": "ipython",
    "version": 3
   },
   "file_extension": ".py",
   "mimetype": "text/x-python",
   "name": "python",
   "nbconvert_exporter": "python",
   "pygments_lexer": "ipython3",
   "version": "3.9.12"
  }
 },
 "nbformat": 4,
 "nbformat_minor": 5
}
