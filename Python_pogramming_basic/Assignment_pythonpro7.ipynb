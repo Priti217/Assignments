{
 "cells": [
  {
   "cell_type": "markdown",
   "id": "810009f9",
   "metadata": {},
   "source": [
    "## Q.1. Write a Python Program to find sum of Array ?\n",
    "### Solution :-"
   ]
  },
  {
   "cell_type": "code",
   "execution_count": 1,
   "id": "eb4c02df",
   "metadata": {},
   "outputs": [
    {
     "name": "stdout",
     "output_type": "stream",
     "text": [
      "Enter the Array: 3,5,7,6\n",
      "The sum of [3, 5, 7, 6] is 21\n"
     ]
    }
   ],
   "source": [
    "def sumOfArray():\n",
    "    in_arr = list(eval(input('Enter the Array: ')))\n",
    "    print(f'The sum of {in_arr} is {sum(in_arr)}')\n",
    "\n",
    "sumOfArray()"
   ]
  },
  {
   "cell_type": "markdown",
   "id": "c23a3ed4",
   "metadata": {},
   "source": [
    "## =================================================================="
   ]
  },
  {
   "cell_type": "markdown",
   "id": "06b2ffd2",
   "metadata": {},
   "source": [
    "## Q.2. Write a Python Program to find Largest element in an Array ?\n",
    "### Solution :-"
   ]
  },
  {
   "cell_type": "code",
   "execution_count": 2,
   "id": "f51777ce",
   "metadata": {},
   "outputs": [
    {
     "name": "stdout",
     "output_type": "stream",
     "text": [
      "Enter the Array: 1,2,3,4,5\n",
      "The largest num of (1, 2, 3, 4, 5) is 5\n"
     ]
    }
   ],
   "source": [
    "def largestnum():\n",
    "    in_arr = eval(input(\"Enter the Array: \"))\n",
    "    print(f'The largest num of {in_arr} is {sorted(in_arr, reverse=True)[0]}')\n",
    "\n",
    "largestnum()"
   ]
  },
  {
   "cell_type": "markdown",
   "id": "a824e672",
   "metadata": {},
   "source": [
    "## =================================================================="
   ]
  },
  {
   "cell_type": "markdown",
   "id": "06b19759",
   "metadata": {},
   "source": [
    "## Q.3. Write a Python Program for array rotation ?\n",
    "### Solution :-"
   ]
  },
  {
   "cell_type": "code",
   "execution_count": 3,
   "id": "558674c3",
   "metadata": {},
   "outputs": [
    {
     "name": "stdout",
     "output_type": "stream",
     "text": [
      "Enter the Array: 6,5,2,4\n",
      "The Reverse of Array (6, 5, 2, 4) is (4, 2, 5, 6)\n"
     ]
    }
   ],
   "source": [
    "def reverseOfArray():\n",
    "    in_arr = eval(input(\"Enter the Array: \"))\n",
    "    print(f\"The Reverse of Array {in_arr} is {in_arr[::-1]}\")\n",
    "    \n",
    "reverseOfArray()"
   ]
  },
  {
   "cell_type": "markdown",
   "id": "e2fdc63c",
   "metadata": {},
   "source": [
    "## =================================================================="
   ]
  },
  {
   "cell_type": "markdown",
   "id": "af809314",
   "metadata": {},
   "source": [
    "## Q.4. Write a Python Program to Split the array and add the first part to the end ?\n",
    "### Solution :-"
   ]
  },
  {
   "cell_type": "code",
   "execution_count": 4,
   "id": "97096b01",
   "metadata": {},
   "outputs": [
    {
     "name": "stdout",
     "output_type": "stream",
     "text": [
      "Enter the Array: 10,13,12,6,7\n",
      "The sum of split of Array (10, 13, 12, 6, 7) is 17\n"
     ]
    }
   ],
   "source": [
    "def sumofsplit():\n",
    "    in_arr = eval(input(\"Enter the Array: \"))\n",
    "    print(f\"The sum of split of Array {in_arr} is {in_arr[0]+in_arr[-1]}\")\n",
    "sumofsplit()"
   ]
  },
  {
   "cell_type": "markdown",
   "id": "2d9a8915",
   "metadata": {},
   "source": [
    "## =================================================================="
   ]
  },
  {
   "cell_type": "markdown",
   "id": "256c467a",
   "metadata": {},
   "source": [
    "## Q.5. Write a Python Program to check if given array is Monotonic ?\n",
    "### solution :-\n"
   ]
  },
  {
   "cell_type": "code",
   "execution_count": 5,
   "id": "2cb21204",
   "metadata": {},
   "outputs": [
    {
     "name": "stdout",
     "output_type": "stream",
     "text": [
      "Enter the Array: 4,5,6,7\n",
      "Array (4, 5, 6, 7) is Monotonic\n"
     ]
    }
   ],
   "source": [
    "def checkMonotonic():\n",
    "    in_arr = eval(input(\"Enter the Array: \"))\n",
    "    if(all(in_arr[i]<=in_arr[i+1] for i in range(len(in_arr)-1)) or all(in_arr[i]>=in_arr[i+1] for i in range(len(in_arr)-1))):\n",
    "        print(f'Array {in_arr} is Monotonic')\n",
    "    else:\n",
    "        print(f'Array {in_arr} is Not Monotonic')\n",
    "\n",
    "checkMonotonic()"
   ]
  },
  {
   "cell_type": "markdown",
   "id": "da80a059",
   "metadata": {},
   "source": [
    "## =================================================================="
   ]
  },
  {
   "cell_type": "code",
   "execution_count": null,
   "id": "22c5537d",
   "metadata": {},
   "outputs": [],
   "source": []
  }
 ],
 "metadata": {
  "kernelspec": {
   "display_name": "Python 3 (ipykernel)",
   "language": "python",
   "name": "python3"
  },
  "language_info": {
   "codemirror_mode": {
    "name": "ipython",
    "version": 3
   },
   "file_extension": ".py",
   "mimetype": "text/x-python",
   "name": "python",
   "nbconvert_exporter": "python",
   "pygments_lexer": "ipython3",
   "version": "3.9.12"
  }
 },
 "nbformat": 4,
 "nbformat_minor": 5
}
