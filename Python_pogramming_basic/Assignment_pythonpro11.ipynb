{
 "cells": [
  {
   "cell_type": "markdown",
   "id": "9bd44a36",
   "metadata": {},
   "source": [
    "## Q.1. Write a Python program to find words which are greater than given length k ?\n",
    "### Solution :-"
   ]
  },
  {
   "cell_type": "code",
   "execution_count": 1,
   "id": "594aca16",
   "metadata": {},
   "outputs": [
    {
     "name": "stdout",
     "output_type": "stream",
     "text": [
      "Enter the string: Python program to find words which are greater than given length k\n",
      "Enter the length of the string: 4\n",
      "Python,program,words,which,greater,given,length\n"
     ]
    }
   ],
   "source": [
    "def checkLengthOfString():\n",
    "    in_string = input(\"Enter the string: \")\n",
    "    in_length = int(input('Enter the length of the string: '))\n",
    "    out_string = []\n",
    "    for string in in_string.split(\" \"):\n",
    "        if len(string) > in_length:\n",
    "            out_string.append(string)\n",
    "    print(','.join(out_string))\n",
    "\n",
    "checkLengthOfString()"
   ]
  },
  {
   "cell_type": "markdown",
   "id": "b5864dd8",
   "metadata": {},
   "source": [
    "## ===================================================================="
   ]
  },
  {
   "cell_type": "markdown",
   "id": "4246ffb4",
   "metadata": {},
   "source": [
    "## Q.2. Write a Python program for removing i-th character from a string ?\n",
    "### Solution :-"
   ]
  },
  {
   "cell_type": "code",
   "execution_count": 2,
   "id": "a96929a2",
   "metadata": {},
   "outputs": [
    {
     "name": "stdout",
     "output_type": "stream",
     "text": [
      "Enter the String: python\n",
      "Enter the ith Character: 2\n",
      "pyhon\n"
     ]
    }
   ],
   "source": [
    "def removeCharacter():\n",
    "    in_string = input(\"Enter the String: \")\n",
    "    in_char_num = int(input(\"Enter the ith Character: \"))\n",
    "    out_string = ''\n",
    "    for ele in range(len(in_string)):\n",
    "        if ele != in_char_num:\n",
    "            out_string = out_string + in_string[ele]\n",
    "    print(out_string)\n",
    "    \n",
    "removeCharacter()"
   ]
  },
  {
   "cell_type": "markdown",
   "id": "dbb2b4d0",
   "metadata": {},
   "source": [
    "## ===================================================================="
   ]
  },
  {
   "cell_type": "markdown",
   "id": "caf40b32",
   "metadata": {},
   "source": [
    "## Q.3. Write a Python program to split and join a string ?\n",
    "### Solution :-"
   ]
  },
  {
   "cell_type": "code",
   "execution_count": 3,
   "id": "25f6a630",
   "metadata": {},
   "outputs": [
    {
     "name": "stdout",
     "output_type": "stream",
     "text": [
      "Enter the string: Python program to split and join a string\n",
      "Split String: ['Python', 'program', 'to', 'split', 'and', 'join', 'a', 'string']\n",
      "Join String: Python program to split and join a string\n"
     ]
    }
   ],
   "source": [
    "def splitJoinString():\n",
    "    in_string = input('Enter the string: ')\n",
    "    print(f\"Split String: {in_string.split(' ')}\")\n",
    "    print(f\"Join String: {' '.join(in_string.split(' '))}\")\n",
    "\n",
    "splitJoinString()"
   ]
  },
  {
   "cell_type": "markdown",
   "id": "cc78698c",
   "metadata": {},
   "source": [
    "## ===================================================================="
   ]
  },
  {
   "cell_type": "markdown",
   "id": "c46e75d8",
   "metadata": {},
   "source": [
    "## Q.4. Write a Python to check if a given string is binary string or not ?\n",
    "### Solution :-"
   ]
  },
  {
   "cell_type": "code",
   "execution_count": 4,
   "id": "1ee0e495",
   "metadata": {},
   "outputs": [
    {
     "name": "stdout",
     "output_type": "stream",
     "text": [
      "Enter the string: 1010\n",
      "1010 is a binary string\n"
     ]
    }
   ],
   "source": [
    "def checkBinary():\n",
    "    in_string = input('Enter the string: ')\n",
    "    stun = 0\n",
    "    for ele in in_string:\n",
    "        if ele in ['0','1']:\n",
    "            stun = 1\n",
    "            continue\n",
    "        else:\n",
    "            stun = 0\n",
    "            break\n",
    "    statement = 'is a binary string' if stun == 1 else 'is not a binart string' \n",
    "    print(f'{in_string} {statement}')\n",
    "\n",
    "checkBinary()"
   ]
  },
  {
   "cell_type": "markdown",
   "id": "2c3309c0",
   "metadata": {},
   "source": [
    "## ===================================================================="
   ]
  },
  {
   "cell_type": "markdown",
   "id": "b45060f2",
   "metadata": {},
   "source": [
    "## Q.5. Write a Python program to find uncommon words from two Strings ?\n",
    "### Solution :-"
   ]
  },
  {
   "cell_type": "code",
   "execution_count": 5,
   "id": "c01adcbd",
   "metadata": {},
   "outputs": [
    {
     "name": "stdout",
     "output_type": "stream",
     "text": [
      "Enter the String 1: Supervised Learning\n",
      "Enter the String 2: Unsupervised Learning\n",
      "{'Supervised', 'Unsupervised'}\n"
     ]
    }
   ],
   "source": [
    "def unCommonWords():\n",
    "    in_string_1 = set(input(\"Enter the String 1: \").split(' '))\n",
    "    in_string_2 = set(input(\"Enter the String 2: \").split(' '))\n",
    "    out_string = (in_string_1.union(in_string_2)).difference(in_string_1.intersection(in_string_2))\n",
    "    print(out_string)\n",
    "\n",
    "unCommonWords()"
   ]
  },
  {
   "cell_type": "markdown",
   "id": "8b683948",
   "metadata": {},
   "source": [
    "## ===================================================================="
   ]
  },
  {
   "cell_type": "markdown",
   "id": "56c6d529",
   "metadata": {},
   "source": [
    "## Q.6. Write a Python to find all duplicate characters in string ?\n",
    "### solution :-"
   ]
  },
  {
   "cell_type": "code",
   "execution_count": 6,
   "id": "85e0e16e",
   "metadata": {},
   "outputs": [
    {
     "name": "stdout",
     "output_type": "stream",
     "text": [
      "Enter the string: duplicate characters in string \n",
      "Duplicate characters are: ['i', 'c', 'n', 't', ' ', 'a', 'e', 's', 'r']\n"
     ]
    }
   ],
   "source": [
    "def duplicateChars():\n",
    "    in_string = input('Enter the string: ')\n",
    "    non_duplicate_list = []\n",
    "    duplicate_list = []\n",
    "    for ele in in_string:\n",
    "        if ele not in non_duplicate_list:\n",
    "            non_duplicate_list.append(ele)\n",
    "        else:\n",
    "            duplicate_list.append(ele)\n",
    "    print(f'Duplicate characters are: {list(set(duplicate_list))}')\n",
    "        \n",
    "duplicateChars()"
   ]
  },
  {
   "cell_type": "markdown",
   "id": "abd94775",
   "metadata": {},
   "source": [
    "## ===================================================================="
   ]
  },
  {
   "cell_type": "markdown",
   "id": "1aaefb7d",
   "metadata": {},
   "source": [
    "## Q.7. Write a Python Program to check if a string contains any special character?\n",
    "### Solution:-"
   ]
  },
  {
   "cell_type": "code",
   "execution_count": 7,
   "id": "8ab66f16",
   "metadata": {},
   "outputs": [
    {
     "name": "stdout",
     "output_type": "stream",
     "text": [
      "Enter the string: Full Metal Alchemist : Brotherhood\n",
      "There are 1 Speical Characters in Full Metal Alchemist : Brotherhood which are [':']\n"
     ]
    }
   ],
   "source": [
    "def checkSpecialChar():\n",
    "    spl_chars = '[@_!#$%^&*()<>?/\\|}{~:]'\n",
    "    in_num = input('Enter the string: ')\n",
    "    count = 0\n",
    "    char_list = []\n",
    "    for ele in in_num:\n",
    "        if ele in spl_chars:\n",
    "            char_list.append(ele)\n",
    "            count = count+1\n",
    "    print(f'There are {count} Speical Characters in {in_num} which are {char_list}')\n",
    "            \n",
    "        \n",
    "checkSpecialChar()"
   ]
  },
  {
   "cell_type": "markdown",
   "id": "41275bb4",
   "metadata": {},
   "source": [
    "## ===================================================================="
   ]
  },
  {
   "cell_type": "code",
   "execution_count": null,
   "id": "c4475dbf",
   "metadata": {},
   "outputs": [],
   "source": []
  }
 ],
 "metadata": {
  "kernelspec": {
   "display_name": "Python 3 (ipykernel)",
   "language": "python",
   "name": "python3"
  },
  "language_info": {
   "codemirror_mode": {
    "name": "ipython",
    "version": 3
   },
   "file_extension": ".py",
   "mimetype": "text/x-python",
   "name": "python",
   "nbconvert_exporter": "python",
   "pygments_lexer": "ipython3",
   "version": "3.9.12"
  }
 },
 "nbformat": 4,
 "nbformat_minor": 5
}
