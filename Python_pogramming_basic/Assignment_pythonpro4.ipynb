{
 "cells": [
  {
   "cell_type": "markdown",
   "id": "63f2ee31",
   "metadata": {},
   "source": [
    "## Q.1.Write a Python Program to find the factorial of a number ?\n",
    "### Solution :-"
   ]
  },
  {
   "cell_type": "code",
   "execution_count": 1,
   "id": "84a03ef4",
   "metadata": {},
   "outputs": [
    {
     "name": "stdout",
     "output_type": "stream",
     "text": [
      "Enter a number: 3\n",
      "The Factorial of 3 is 6\n"
     ]
    }
   ],
   "source": [
    "def factorial(num):\n",
    "    if (num < 1):\n",
    "        return 1\n",
    "    else:\n",
    "        return num*factorial(num-1)\n",
    "num = int(input('Enter a number: '))\n",
    "value = factorial(num)\n",
    "print(f'The Factorial of {num} is {value}')"
   ]
  },
  {
   "cell_type": "markdown",
   "id": "d509390b",
   "metadata": {},
   "source": [
    "## =================================================================="
   ]
  },
  {
   "cell_type": "markdown",
   "id": "4a21cd8d",
   "metadata": {},
   "source": [
    "## Q.2.Write a Python Program to display the multiplication table ?\n",
    "### Solution :-"
   ]
  },
  {
   "cell_type": "code",
   "execution_count": 2,
   "id": "080d39d7",
   "metadata": {},
   "outputs": [
    {
     "name": "stdout",
     "output_type": "stream",
     "text": [
      "Enter a number :3\n",
      "3 X 1=3\n",
      "3 X 2=6\n",
      "3 X 3=9\n",
      "3 X 4=12\n",
      "3 X 5=15\n",
      "3 X 6=18\n",
      "3 X 7=21\n",
      "3 X 8=24\n",
      "3 X 9=27\n",
      "3 X 10=30\n"
     ]
    }
   ],
   "source": [
    "def multable(num):\n",
    "    for i in range(1,11):\n",
    "        print(f'{num} X {i}={num*i}')\n",
    "num = int(input('Enter a number :'))\n",
    "multable(num)"
   ]
  },
  {
   "cell_type": "markdown",
   "id": "6839360b",
   "metadata": {},
   "source": [
    "## =================================================================="
   ]
  },
  {
   "cell_type": "markdown",
   "id": "c6eabc05",
   "metadata": {},
   "source": [
    "## 3.Write a Python Program to print the fibonacci sequence ?\n",
    "### Solution:-"
   ]
  },
  {
   "cell_type": "code",
   "execution_count": 3,
   "id": "1ca72185",
   "metadata": {},
   "outputs": [
    {
     "name": "stdout",
     "output_type": "stream",
     "text": [
      "Enter the no of fibonacci sequences you want? 4\n",
      "The First 4 fibonacci series are:  [0, 1, 1, 2]\n"
     ]
    }
   ],
   "source": [
    "s_count = int(input('Enter the no of fibonacci sequences you want? '))\n",
    "initial_list = [0,1]\n",
    "if s_count < 0:\n",
    "    print('Fibonacci Numbers are not available for Negative Numbers')\n",
    "elif s_count <= 2 and s_count >= 0:\n",
    "    print(initial_list)\n",
    "else:\n",
    "    for i in range(s_count):\n",
    "        if i >= 2:\n",
    "            initial_list.append(initial_list[i-1]+initial_list[i-2])\n",
    "    print(f'The First {s_count} fibonacci series are: ',initial_list)"
   ]
  },
  {
   "cell_type": "markdown",
   "id": "afd7dbbb",
   "metadata": {},
   "source": [
    "## =================================================================="
   ]
  },
  {
   "cell_type": "markdown",
   "id": "87aa2175",
   "metadata": {},
   "source": [
    "## Q.4.Write a Python Program to check Armstrong number ?\n",
    "### Solution :-"
   ]
  },
  {
   "cell_type": "code",
   "execution_count": 4,
   "id": "e13e768a",
   "metadata": {},
   "outputs": [
    {
     "name": "stdout",
     "output_type": "stream",
     "text": [
      "Enter a number: 153\n",
      "153 is a Armstrong Number\n",
      "Enter a number: 34\n",
      "34 is a Not Armstrong Number\n"
     ]
    }
   ],
   "source": [
    "def checkArmstrongNumber():\n",
    "    in_num = input('Enter a number: ')\n",
    "    sum = 0\n",
    "    for char in range(len(in_num)):\n",
    "        sum = sum + pow(int(in_num[char]),3)\n",
    "    if sum == int(in_num):\n",
    "        print(f'{in_num} is a Armstrong Number')\n",
    "    else:\n",
    "        print(f'{in_num} is a Not Armstrong Number')\n",
    "\n",
    "for x in range(2):\n",
    "    checkArmstrongNumber()"
   ]
  },
  {
   "cell_type": "markdown",
   "id": "b13fbc29",
   "metadata": {},
   "source": [
    "## =================================================================="
   ]
  },
  {
   "cell_type": "markdown",
   "id": "58146b56",
   "metadata": {},
   "source": [
    "## Q.5.Write a Python Program to Find Armstrong number in an interval ?\n",
    "### Solution :-"
   ]
  },
  {
   "cell_type": "code",
   "execution_count": 5,
   "id": "b8a5f587",
   "metadata": {},
   "outputs": [
    {
     "name": "stdout",
     "output_type": "stream",
     "text": [
      "Enter the Start of the Interval: 1\n",
      "Enter the End of the Interval: 4\n",
      "The Armstrong numbers between 1 and 4 are [1]\n"
     ]
    }
   ],
   "source": [
    "def checkArmstrongNumber(in_num, storage):\n",
    "    sum = 0\n",
    "    for char in range(len(in_num)):\n",
    "        sum = sum + pow(int(in_num[char]),3)\n",
    "    if sum == int(in_num):\n",
    "        storage.append(int(in_num))\n",
    "\n",
    "start_interval = int(input('Enter the Start of the Interval: '))\n",
    "end_interval = int(input('Enter the End of the Interval: '))\n",
    "list_of_armstrong = []\n",
    "\n",
    "if start_interval > end_interval:\n",
    "    printha(\"Start Interval Cannot be Greater than End Interval\")\n",
    "else:\n",
    "    for number in range(start_interval,end_interval+1):\n",
    "        checkArmstrongNumber(str(number),list_of_armstrong)\n",
    "    print(f'The Armstrong numbers between {start_interval} and {end_interval} are {list_of_armstrong}')\n"
   ]
  },
  {
   "cell_type": "markdown",
   "id": "4da00f1b",
   "metadata": {},
   "source": [
    "## =================================================================="
   ]
  },
  {
   "cell_type": "markdown",
   "id": "a55bd796",
   "metadata": {},
   "source": [
    "## Q.6.Write a Python Program to sum of natural numbers ?"
   ]
  },
  {
   "cell_type": "code",
   "execution_count": 6,
   "id": "47781234",
   "metadata": {},
   "outputs": [
    {
     "name": "stdout",
     "output_type": "stream",
     "text": [
      "Enter a number: 4\n",
      "Sum of 4 natural numbers is 10.0\n"
     ]
    }
   ],
   "source": [
    "def sumOfNaturalNumbers(num):\n",
    "    sum = num*((num+1)/2)\n",
    "    print(f'Sum of {num} natural numbers is {sum}')\n",
    "    \n",
    "num = int(input('Enter a number: '))\n",
    "sumOfNaturalNumbers(num)"
   ]
  },
  {
   "cell_type": "markdown",
   "id": "bf9fe861",
   "metadata": {},
   "source": [
    "## =================================================================="
   ]
  },
  {
   "cell_type": "code",
   "execution_count": null,
   "id": "c46e83d2",
   "metadata": {},
   "outputs": [],
   "source": []
  }
 ],
 "metadata": {
  "kernelspec": {
   "display_name": "Python 3 (ipykernel)",
   "language": "python",
   "name": "python3"
  },
  "language_info": {
   "codemirror_mode": {
    "name": "ipython",
    "version": 3
   },
   "file_extension": ".py",
   "mimetype": "text/x-python",
   "name": "python",
   "nbconvert_exporter": "python",
   "pygments_lexer": "ipython3",
   "version": "3.9.12"
  }
 },
 "nbformat": 4,
 "nbformat_minor": 5
}
