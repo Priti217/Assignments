{
 "cells": [
  {
   "cell_type": "markdown",
   "id": "9c297dd2",
   "metadata": {},
   "source": [
    "## Q.1.Write a Python program to Extract Unique values dictionary values?\n",
    "### Solution :-"
   ]
  },
  {
   "cell_type": "code",
   "execution_count": 1,
   "id": "953f699e",
   "metadata": {},
   "outputs": [
    {
     "name": "stdout",
     "output_type": "stream",
     "text": [
      "dict_values(['Pen', 'Pencil', 'Rubber', 'Scale', 'Pen', 'BallPen', 'scale'])\n",
      "Unique Values: ['Pencil', 'Rubber', 'Scale', 'scale', 'Pen', 'BallPen']\n"
     ]
    }
   ],
   "source": [
    "in_dict = {1:'Pen',2:'Pencil',3:'Rubber',4:'Scale',5:'Pen',6:'BallPen',7:'scale'}\n",
    "print(in_dict.values())\n",
    "print(f'Unique Values: {list(set(in_dict.values()))}')"
   ]
  },
  {
   "cell_type": "markdown",
   "id": "d3491022",
   "metadata": {},
   "source": [
    "## =================================================================="
   ]
  },
  {
   "cell_type": "markdown",
   "id": "2e89ff0b",
   "metadata": {},
   "source": [
    "## Q.2.Write a Python program to find the sum of all items in a dictionary?\n",
    "### Solution :-"
   ]
  },
  {
   "cell_type": "code",
   "execution_count": 2,
   "id": "9532fe67",
   "metadata": {},
   "outputs": [
    {
     "name": "stdout",
     "output_type": "stream",
     "text": [
      "Sum of All items:  300\n"
     ]
    }
   ],
   "source": [
    "in_dict = {'Apple':10,'Mango':20,'Banana':30,'Guava':40,'PineApple':200}\n",
    "print('Sum of All items: ',sum(in_dict.values()))"
   ]
  },
  {
   "cell_type": "markdown",
   "id": "b201176e",
   "metadata": {},
   "source": [
    "## =================================================================="
   ]
  },
  {
   "cell_type": "markdown",
   "id": "c86c1062",
   "metadata": {},
   "source": [
    "## Q.3.Write a Python program to Merging two Dictionaries?\n",
    "### Solution :-"
   ]
  },
  {
   "cell_type": "code",
   "execution_count": 3,
   "id": "5efe433c",
   "metadata": {},
   "outputs": [
    {
     "name": "stdout",
     "output_type": "stream",
     "text": [
      "{'item_name': 'Laptop', 'platform_available': ['Amazon', 'Flipkart']}\n"
     ]
    }
   ],
   "source": [
    "item_details = {\n",
    "    'item_name':'Laptop'\n",
    "}\n",
    "platform_detail = {\n",
    "    'platform_available':['Amazon','Flipkart']\n",
    "}\n",
    "item_details.update(platform_detail)\n",
    "print(item_details)"
   ]
  },
  {
   "cell_type": "markdown",
   "id": "98d67862",
   "metadata": {},
   "source": [
    "## =================================================================="
   ]
  },
  {
   "cell_type": "markdown",
   "id": "fbd170af",
   "metadata": {},
   "source": [
    "## Q.4.Write a Python program to convert key-values list to flat dictionary?\n",
    "### Solution :-"
   ]
  },
  {
   "cell_type": "code",
   "execution_count": 4,
   "id": "44702a0d",
   "metadata": {},
   "outputs": [
    {
     "name": "stdout",
     "output_type": "stream",
     "text": [
      "{'A': 10, 'B': 20, 'C': 30, 'D': 40, 'E': 50, 'F': 60, 'G': 70, 'H': 80, 'I': 90, 'J': 100}\n"
     ]
    }
   ],
   "source": [
    "in_list = [('A',10),('B',20),('C',30),('D',40),('E',50),('F',60),('G',70),('H',80),('I',90),('J',100)]\n",
    "\n",
    "print(dict(in_list))"
   ]
  },
  {
   "cell_type": "markdown",
   "id": "0dd07f48",
   "metadata": {},
   "source": [
    "## =================================================================="
   ]
  },
  {
   "cell_type": "markdown",
   "id": "6d118ccf",
   "metadata": {},
   "source": [
    "## Q.5.Write a Python program to insertion at the beginning in OrderedDict?\n",
    "### Solution :-"
   ]
  },
  {
   "cell_type": "code",
   "execution_count": 5,
   "id": "cb70e711",
   "metadata": {},
   "outputs": [
    {
     "name": "stdout",
     "output_type": "stream",
     "text": [
      "dict_one OrderedDict([('Apple', 'Iphone'), ('Microsoft', 'Windows'), ('Google', 'chrome')])\n",
      "dict_one OrderedDict([('Apple', 'Iphone'), ('Microsoft', 'Windows'), ('Google', 'chrome'), ('Tesla', 'SpaceX')])\n",
      "dict_one OrderedDict([('Tesla', 'SpaceX'), ('Apple', 'Iphone'), ('Microsoft', 'Windows'), ('Google', 'chrome')])\n"
     ]
    }
   ],
   "source": [
    "from collections import OrderedDict\n",
    "dict_one = OrderedDict({'Apple':'Iphone','Microsoft':'Windows','Google':'chrome'})\n",
    "print('dict_one',dict_one)\n",
    "dict_two = {'Tesla':'SpaceX'}\n",
    "dict_one.update(dict_two)\n",
    "print('dict_one',dict_one)\n",
    "dict_one.move_to_end('Tesla',last=False)\n",
    "print('dict_one',dict_one)"
   ]
  },
  {
   "cell_type": "markdown",
   "id": "a94cacb2",
   "metadata": {},
   "source": [
    "## =================================================================="
   ]
  },
  {
   "cell_type": "markdown",
   "id": "c2ec57dc",
   "metadata": {},
   "source": [
    "## Q.6.Write a Python program to check order of character in string using OrderedDict()?\n",
    "### solution :-"
   ]
  },
  {
   "cell_type": "code",
   "execution_count": 6,
   "id": "a5235f75",
   "metadata": {},
   "outputs": [
    {
     "name": "stdout",
     "output_type": "stream",
     "text": [
      "{'a': 1000, 'f': 200, 'd': 300, 'c': 400, 'b': 500, 'e': 600}\n",
      "OrderedDict([('a', 1000), ('b', 500), ('c', 400), ('d', 300), ('e', 600), ('f', 200)])\n"
     ]
    }
   ],
   "source": [
    "from collections import OrderedDict\n",
    "\n",
    "initial_list = {'a': 1000, 'f': 200, 'd': 300, 'c': 400, 'b': 500, 'e': 600}\n",
    "print(initial_list)\n",
    "\n",
    "final_list = OrderedDict(dict(sorted(initial_list.items())))\n",
    "print(final_list)"
   ]
  },
  {
   "cell_type": "markdown",
   "id": "ac44548a",
   "metadata": {},
   "source": [
    "## =================================================================="
   ]
  },
  {
   "cell_type": "markdown",
   "id": "2b81db38",
   "metadata": {},
   "source": [
    "## Q.7.Write a Python program to sort Python Dictionaries by Key or Value?\n",
    "### Solution :-"
   ]
  },
  {
   "cell_type": "code",
   "execution_count": 7,
   "id": "c7c92041",
   "metadata": {},
   "outputs": [
    {
     "name": "stdout",
     "output_type": "stream",
     "text": [
      "{'Banana': 60, 'Grape': 13, 'Mango': 100, 'PineApple': 22}\n",
      "{'Grape': 13, 'PineApple': 22, 'Banana': 60, 'Mango': 100}\n"
     ]
    }
   ],
   "source": [
    "d_items = {'Mango':100,'PineApple':22,'Banana':60,'Grape':13}\n",
    "\n",
    "def sort_dict(in_dict,sort_type):\n",
    "    if sort_type == 'key':\n",
    "        print(dict(sorted(in_dict.items(), key=lambda x:x[0], reverse=False)))\n",
    "    else:\n",
    "        print(dict(sorted(in_dict.items(), key=lambda x:x[1], reverse=False)))\n",
    "        \n",
    "sort_dict(d_items,'key')        \n",
    "sort_dict(d_items,'value')"
   ]
  },
  {
   "cell_type": "markdown",
   "id": "35ed7885",
   "metadata": {},
   "source": [
    "## =================================================================="
   ]
  },
  {
   "cell_type": "code",
   "execution_count": null,
   "id": "f8aba9db",
   "metadata": {},
   "outputs": [],
   "source": []
  }
 ],
 "metadata": {
  "kernelspec": {
   "display_name": "Python 3 (ipykernel)",
   "language": "python",
   "name": "python3"
  },
  "language_info": {
   "codemirror_mode": {
    "name": "ipython",
    "version": 3
   },
   "file_extension": ".py",
   "mimetype": "text/x-python",
   "name": "python",
   "nbconvert_exporter": "python",
   "pygments_lexer": "ipython3",
   "version": "3.9.12"
  }
 },
 "nbformat": 4,
 "nbformat_minor": 5
}
