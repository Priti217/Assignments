{
 "cells": [
  {
   "cell_type": "markdown",
   "id": "91e0eb36",
   "metadata": {},
   "source": [
    "# Q.1.What are Escape characters ? and how do you use them ?\n",
    "## Solution: \n",
    "Escape characters represent characters in string values that would otherwise be difficult or impossible to type into code. we can use the backslash character to escape a single character or symbol\n",
    "\n",
    "example: \\t, \\n"
   ]
  },
  {
   "cell_type": "markdown",
   "id": "e97c40e6",
   "metadata": {},
   "source": [
    "## ==============================================================="
   ]
  },
  {
   "cell_type": "markdown",
   "id": "25889134",
   "metadata": {},
   "source": [
    "# Q.2.What do the escape characters n and t stand for ?\n",
    "## Solution: \n",
    "\\n is a newline, \\t is a tab"
   ]
  },
  {
   "cell_type": "markdown",
   "id": "15f5f15d",
   "metadata": {},
   "source": [
    "## =============================================================="
   ]
  },
  {
   "cell_type": "markdown",
   "id": "541ae0ff",
   "metadata": {},
   "source": [
    "# Q.3.What is the way to include backslash character in a string?\n",
    "## Solution: \n",
    "The \\\\ escape character will represent the backslash character in a string"
   ]
  },
  {
   "cell_type": "markdown",
   "id": "4dca1046",
   "metadata": {},
   "source": [
    "## ================================================================="
   ]
  },
  {
   "cell_type": "markdown",
   "id": "ed63aff9",
   "metadata": {},
   "source": [
    "# Q.4.The string \"Howl's Moving Castle\" is a correct value. Why isn't the single quote character in the word Howl's not escaped a problem ?\n",
    "## Solution: \n",
    "The string \"Howl's Moving Castle\" escaped the problem because it is wrapped inside double quotes. if its wrapped inside single quotes then we have to use escape character \\' to show single quote in the final output\n",
    "'Howl\\'s Moving Castle' -> 'Howl's Moving Castle"
   ]
  },
  {
   "cell_type": "markdown",
   "id": "bb840b79",
   "metadata": {},
   "source": [
    "## ==============================================================="
   ]
  },
  {
   "cell_type": "markdown",
   "id": "1d876be3",
   "metadata": {},
   "source": [
    "# Q.5.How do you write a string of newlines if you don't want to use the n character?\n",
    "## Solution : \n",
    "Multiline string allow you to use newlines in string without the \\n escape character"
   ]
  },
  {
   "cell_type": "code",
   "execution_count": 1,
   "id": "ae6bb25b",
   "metadata": {},
   "outputs": [
    {
     "name": "stdout",
     "output_type": "stream",
     "text": [
      "iNeuron full stack\n",
      "Data Science Course\n"
     ]
    }
   ],
   "source": [
    "# Example:\n",
    "a = '''iNeuron full stack\n",
    "Data Science Course'''\n",
    "print(a)"
   ]
  },
  {
   "cell_type": "markdown",
   "id": "e4fd2e47",
   "metadata": {},
   "source": [
    "## =============================================================="
   ]
  },
  {
   "cell_type": "markdown",
   "id": "566b22dd",
   "metadata": {},
   "source": [
    "# Q.6.What are the values of the given expressions ?\n",
    "'Hello, world!'[1]\n",
    "\n",
    "'Hello, world!'[0:5]\n",
    "\n",
    "'Hello, world!'[:5]\n",
    "\n",
    "'Hello, world!'[3:]\n",
    "\n",
    "## Solution: \n",
    "The values for the given expressions are:\n",
    "\n",
    "'Hello, world!'[1] -> 'e'\n",
    "\n",
    "'Hello, world!'[0:5] -> 'Hello'\n",
    "\n",
    "'Hello, world!'[:5] -> 'Hello'\n",
    "\n",
    "'Hello, world!'[3:] -> 'lo, world!'"
   ]
  },
  {
   "cell_type": "markdown",
   "id": "e8aa5994",
   "metadata": {},
   "source": [
    "## ================================================================="
   ]
  },
  {
   "cell_type": "markdown",
   "id": "2827561d",
   "metadata": {},
   "source": [
    "# Q.7.What are the values of the following expressions ?\n",
    "'Hello'.upper()\n",
    "\n",
    "'Hello'.upper().isupper()\n",
    "\n",
    "'Hello'.upper().lower()\n",
    "\n",
    "## Solution: \n",
    "The values for the given expressions are:\n",
    "\n",
    "'Hello'.upper() -> 'HELLO'\n",
    "\n",
    "'Hello'.upper().isupper() -> True\n",
    "\n",
    "'Hello'.upper().lower() -> 'hello'"
   ]
  },
  {
   "cell_type": "markdown",
   "id": "0655ff33",
   "metadata": {},
   "source": [
    "## =================================================================="
   ]
  },
  {
   "cell_type": "markdown",
   "id": "979853e1",
   "metadata": {},
   "source": [
    "# Q.8.What are the values of the following expressions ?\n",
    "'Remember, remember, the fifith of July.'.split()\n",
    "-'.join('There can only one'.split())\n",
    "\n",
    "## Solution: \n",
    "The values for the given expressions are:\n",
    "\n",
    "'Remember, remember, the fifith of July.'.split() -> ['Remember,', 'remember,', 'the', 'fifith', 'of', 'July.']\n",
    "\n",
    "'-'.join('There can only one'.split()) -> 'There-can-only-one'"
   ]
  },
  {
   "cell_type": "markdown",
   "id": "e3472abc",
   "metadata": {},
   "source": [
    "## =================================================================="
   ]
  },
  {
   "cell_type": "markdown",
   "id": "1d8759ff",
   "metadata": {},
   "source": [
    "# Q.9.What are the methods for right-justifying, left-justifying and centering a string ?\n",
    "\n",
    "## Solution: \n",
    "The rjust(),ljust(),center() string methods, respectively"
   ]
  },
  {
   "cell_type": "markdown",
   "id": "da0f5365",
   "metadata": {},
   "source": [
    "## =================================================================="
   ]
  },
  {
   "cell_type": "markdown",
   "id": "eae4966e",
   "metadata": {},
   "source": [
    "# Q.10.What is the best way to remove whitespace characters from the start or end ?\n",
    "## Solution: \n",
    "The lstrip() and rstrip() methods remove whitesapce characters from the left and right ends of a string respectively"
   ]
  },
  {
   "cell_type": "markdown",
   "id": "00cf5c99",
   "metadata": {},
   "source": [
    "## =================================================================="
   ]
  },
  {
   "cell_type": "code",
   "execution_count": null,
   "id": "d382b476",
   "metadata": {},
   "outputs": [],
   "source": []
  }
 ],
 "metadata": {
  "kernelspec": {
   "display_name": "Python 3 (ipykernel)",
   "language": "python",
   "name": "python3"
  },
  "language_info": {
   "codemirror_mode": {
    "name": "ipython",
    "version": 3
   },
   "file_extension": ".py",
   "mimetype": "text/x-python",
   "name": "python",
   "nbconvert_exporter": "python",
   "pygments_lexer": "ipython3",
   "version": "3.9.12"
  }
 },
 "nbformat": 4,
 "nbformat_minor": 5
}
