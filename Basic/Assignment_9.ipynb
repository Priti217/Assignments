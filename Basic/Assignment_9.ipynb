{
 "cells": [
  {
   "cell_type": "markdown",
   "id": "47cf683c",
   "metadata": {},
   "source": [
    "## Q.1.To what does a relative path refer ?\n",
    "### Solution:-"
   ]
  },
  {
   "cell_type": "markdown",
   "id": "57170885",
   "metadata": {},
   "source": [
    " The relative path is the path to some file with respect to your current working directory (PWD).\n",
    " \n",
    "#### For example: \n",
    "if Absolute path to a file called stuff.txt is: C:/users/admin/docs/stuff.txt If my PWD is C:/users/admin/ , then the relative path to stuff.txt would be: docs/stuff.txt\n",
    "\n",
    "#### Note\n",
    ": PWD + relative path = absolute path"
   ]
  },
  {
   "cell_type": "markdown",
   "id": "3f2c9afd",
   "metadata": {},
   "source": [
    "## ====================================================================="
   ]
  },
  {
   "cell_type": "markdown",
   "id": "ae149f88",
   "metadata": {},
   "source": [
    "## Q.2.What does an absolute path start with your Operating System ?\n",
    "### Solution :-"
   ]
  },
  {
   "cell_type": "markdown",
   "id": "7767a6e3",
   "metadata": {},
   "source": [
    " In Linux based systems the absolute path starts with /. Where as in Windows based systems absolute path starts with C:"
   ]
  },
  {
   "cell_type": "markdown",
   "id": "16a46048",
   "metadata": {},
   "source": [
    "## ======================================================================"
   ]
  },
  {
   "cell_type": "markdown",
   "id": "4440db65",
   "metadata": {},
   "source": [
    "## Q.3.What do the functions os.getcwd() and os.chdir() do ?\n",
    "### Solution:-"
   ]
  },
  {
   "cell_type": "markdown",
   "id": "e6feebe6",
   "metadata": {},
   "source": [
    "os.getcwd() method tells us the location of current working directory (CWD). Whereas os.chdir() method in Python used to change the current working directory to specified path. These functions are similar to linux commands pwd and cd"
   ]
  },
  {
   "cell_type": "markdown",
   "id": "827a7cf4",
   "metadata": {},
   "source": [
    "## ======================================================================="
   ]
  },
  {
   "cell_type": "markdown",
   "id": "44433eb1",
   "metadata": {},
   "source": [
    "## Q.4.What are . and .. folders ?\n",
    "### Solution :-"
   ]
  },
  {
   "cell_type": "markdown",
   "id": "c0badd37",
   "metadata": {},
   "source": [
    " . Represents the Current Directory Whereas .. Represents the Parent Directory of the Current Directory\n",
    "For Example: if the below path is my absolute path:\n",
    "C:\\\\Users\\\\vishnu\\\\Documents\\\\iNeuron-Assignments\\\\Python Basic Assignment\n",
    "Then . represents the path C:\\\\Users\\\\vishnu\\\\Documents\\\\iNeuron-Assignments\\\\Python Basic Assignment\n",
    "Where as .. represents the path C:\\\\Users\\\\vishnu\\\\Documents\\\\iNeuron-Assignments"
   ]
  },
  {
   "cell_type": "markdown",
   "id": "fbdf9b0e",
   "metadata": {},
   "source": [
    "##  ======================================================================="
   ]
  },
  {
   "cell_type": "markdown",
   "id": "06bde47e",
   "metadata": {},
   "source": [
    "## Q.5.In C:\\bacon\\eggs\\spam.txt which part is the dir name and which part is the base name ?\n",
    "### Solution :-"
   ]
  },
  {
   "cell_type": "markdown",
   "id": "52fb3b6a",
   "metadata": {},
   "source": [
    "For C:\\bacon\\eggs\\spam.txt\n",
    "\n",
    "The dir name is C:\\\\bacon\\\\eggs\n",
    "\n",
    "The Base name is spam.txt"
   ]
  },
  {
   "cell_type": "code",
   "execution_count": 7,
   "id": "4423f2ee",
   "metadata": {},
   "outputs": [
    {
     "name": "stdout",
     "output_type": "stream",
     "text": [
      "C:\\Users\\HP\\OneDrive\\Documents\n",
      "Abc.txt\n"
     ]
    }
   ],
   "source": [
    "import os\n",
    "path = r'C:\\Users\\HP\\OneDrive\\Documents\\Abc.txt'\n",
    "print(os.path.dirname(path))\n",
    "print(os.path.basename(path))"
   ]
  },
  {
   "cell_type": "markdown",
   "id": "a180fad9",
   "metadata": {},
   "source": [
    "## ======================================================================"
   ]
  },
  {
   "cell_type": "markdown",
   "id": "35216bd5",
   "metadata": {},
   "source": [
    "## Q.6.What are the three mode arguments that can be passed to the open() function ?\n",
    "### Solution :-"
   ]
  },
  {
   "cell_type": "markdown",
   "id": "970f98da",
   "metadata": {},
   "source": [
    "A file can be Accessed in python using open() function. open function takes two arguments filename and mode of operation (optional). if mode is not provided the default mode of opening is read mode\n",
    "\n",
    "So, the syntax being: open(filename, mode)\n",
    "\n",
    "‘r’ – Read Mode: This is the default mode for open(). The file is opened and a pointer is positioned at the beginning of the file’s content.\n",
    "\n",
    "‘w’ – Write Mode: Using this mode will overwrite any existing content in a file. If the given file does not exist, a new one will be created.\n",
    "\n",
    "‘r+’ – Read/Write Mode: Use this mode if you need to simultaneously read and write to a file.\n",
    "\n",
    "‘a’ – Append Mode: With this mode the user can append the data without overwriting any already existing data in the file.\n",
    "\n",
    "‘a+’ – Append and Read Mode: In this mode you can read and append the data without overwriting the original file.\n",
    "\n",
    "‘x’ – Exclusive Creating Mode: This mode is for the sole purpose of creating new files. Use this mode if you know the file to be written doesn’t exist beforehand."
   ]
  },
  {
   "cell_type": "markdown",
   "id": "1543fdf1",
   "metadata": {},
   "source": [
    "## ========================================================================"
   ]
  },
  {
   "cell_type": "markdown",
   "id": "13139af8",
   "metadata": {},
   "source": [
    "## Q.7.What happens if an existing file is opened in write mode ?\n",
    "### Solution :-\n",
    "Using this mode will overwrite any existing content in a file. If the given file does not exist, a new one will be created."
   ]
  },
  {
   "cell_type": "markdown",
   "id": "e90f0704",
   "metadata": {},
   "source": [
    "## ========================================================================"
   ]
  },
  {
   "cell_type": "markdown",
   "id": "1b0de87a",
   "metadata": {},
   "source": [
    "## 8.How do you tell the difference between read() and readlines() ?\n",
    "### Solution :-\n",
    "\n",
    "The main difference is that read() will read the whole file at once and then print out the first characters that take up as many bytes as you specify in the parenthesis\n",
    "\n",
    "    * Whereas the readline() that will read and print out only the first characters that take up as many bytes as you specify in the parenthesis. You may want to use readline() when you're reading files that are too big for your RAM.\n",
    "\n",
    "    * The read() would treat each character in the file separately, meaning that the iteration would happen for every character.\n",
    "\n",
    "    *The readline() function, on the other hand, only reads a single line of the file. This means that if the first line of the file were three lines long, the readline() function would only parse (or iterate/operate) on the first line of the file."
   ]
  },
  {
   "cell_type": "markdown",
   "id": "abba20d4",
   "metadata": {},
   "source": [
    "## ======================================================================="
   ]
  },
  {
   "cell_type": "markdown",
   "id": "8bc225f6",
   "metadata": {},
   "source": [
    "## Q.9.What data structure does a shelf value resemble ?\n",
    "### Solution :-\n",
    "it contains key and values it represents dictionary."
   ]
  },
  {
   "cell_type": "markdown",
   "id": "6a606def",
   "metadata": {},
   "source": [
    "## ========================================================================="
   ]
  },
  {
   "cell_type": "code",
   "execution_count": null,
   "id": "c1b5721a",
   "metadata": {},
   "outputs": [],
   "source": []
  }
 ],
 "metadata": {
  "kernelspec": {
   "display_name": "Python 3 (ipykernel)",
   "language": "python",
   "name": "python3"
  },
  "language_info": {
   "codemirror_mode": {
    "name": "ipython",
    "version": 3
   },
   "file_extension": ".py",
   "mimetype": "text/x-python",
   "name": "python",
   "nbconvert_exporter": "python",
   "pygments_lexer": "ipython3",
   "version": "3.9.12"
  }
 },
 "nbformat": 4,
 "nbformat_minor": 5
}
