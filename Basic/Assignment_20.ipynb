{
 "cells": [
  {
   "cell_type": "markdown",
   "id": "44211e3d",
   "metadata": {},
   "source": [
    "## Q.1. Set the variable test1 to the string 'This is a test of the emergency text system,' and save test1 to a file named test.txt.\n",
    "### Solution :-"
   ]
  },
  {
   "cell_type": "code",
   "execution_count": 1,
   "id": "84b4a1dc",
   "metadata": {},
   "outputs": [
    {
     "name": "stdout",
     "output_type": "stream",
     "text": [
      "This is a test of the emergency text system,\n"
     ]
    }
   ],
   "source": [
    "test1 = 'This is a test of the emergency text system,'\n",
    "print(test1)\n",
    "with open('test.txt','w') as file:\n",
    "    file.write(test1)\n",
    "    file.close()"
   ]
  },
  {
   "cell_type": "code",
   "execution_count": 2,
   "id": "00edf409",
   "metadata": {},
   "outputs": [
    {
     "name": "stdout",
     "output_type": "stream",
     "text": [
      "This is a test of the emergency text system,\n"
     ]
    }
   ],
   "source": [
    "! type test.txt "
   ]
  },
  {
   "cell_type": "markdown",
   "id": "6b32188e",
   "metadata": {},
   "source": [
    "## ========================================================================"
   ]
  },
  {
   "cell_type": "markdown",
   "id": "4e628f29",
   "metadata": {},
   "source": [
    "## Q.2. Read the contents of the file test.txt into the variable test2. Is there a difference between test 1 and test 2?\n",
    "### Solution :-"
   ]
  },
  {
   "cell_type": "code",
   "execution_count": 3,
   "id": "e2329210",
   "metadata": {},
   "outputs": [
    {
     "name": "stdout",
     "output_type": "stream",
     "text": [
      "This is a test of the emergency text system,\n",
      "True\n"
     ]
    }
   ],
   "source": [
    "with open('test.txt','r') as file:\n",
    "    test2 = file.read()\n",
    "    \n",
    "print(test2)   \n",
    "print(test1 == test2)"
   ]
  },
  {
   "cell_type": "markdown",
   "id": "8463259c",
   "metadata": {},
   "source": [
    "## ========================================================================="
   ]
  },
  {
   "cell_type": "markdown",
   "id": "316a95cc",
   "metadata": {},
   "source": [
    "## Q.3. Create a CSV file called books.csv by using these lines:\n",
    "title,author,year\n",
    "\n",
    "The Weirdstone of Brisingamen,Alan Garner,1960\n",
    "\n",
    "Perdido Street Station,China Miéville,2000\n",
    "\n",
    "Thud!,Terry Pratchett,2005\n",
    "\n",
    "The Spellman Files,Lisa Lutz,2007\n",
    "\n",
    "Small Gods,Terry Pratchett,1992\n",
    "### Solution :-"
   ]
  },
  {
   "cell_type": "code",
   "execution_count": 4,
   "id": "86160dc0",
   "metadata": {},
   "outputs": [],
   "source": [
    "data = '''title,author,year\n",
    "The Weirdstone of Brisingamen,Alan Garner,1960\n",
    "Perdido Street Station,China Miéville,2000\n",
    "Thud!,Terry Pratchett,2005\n",
    "The Spellman Files,Lisa Lutz,2007\n",
    "Small Gods,Terry Pratchett,1992'''\n",
    "\n",
    "with open('book.csv','w') as file:\n",
    "    file.write(data)"
   ]
  },
  {
   "cell_type": "markdown",
   "id": "e4475803",
   "metadata": {},
   "source": [
    "## ========================================================================="
   ]
  },
  {
   "cell_type": "markdown",
   "id": "2ca98818",
   "metadata": {},
   "source": [
    "## Q.4. Use the sqlite3 module to create a SQLite database called books.db, and a table called books with these fields: title (text), author (text), and year (integer).\n",
    "### Solution :-"
   ]
  },
  {
   "cell_type": "code",
   "execution_count": 19,
   "id": "0ba56bc3",
   "metadata": {},
   "outputs": [],
   "source": [
    "import sqlite3\n",
    "db = sqlite3.connect('book.db')\n",
    "cursor = db.cursor()\n",
    "cursor.execute(\"CREATE TABLE book (title text, author text, year int)\")\n",
    "db.commit()\n",
    "db.close()"
   ]
  },
  {
   "cell_type": "markdown",
   "id": "3ce33a19",
   "metadata": {},
   "source": [
    "## ========================================================================"
   ]
  },
  {
   "cell_type": "markdown",
   "id": "992b9b9c",
   "metadata": {},
   "source": [
    "## Q.5. Read books.csv and insert its data into the books table.\n",
    "### Solution"
   ]
  },
  {
   "cell_type": "code",
   "execution_count": 21,
   "id": "58661f4c",
   "metadata": {},
   "outputs": [],
   "source": [
    "import sqlite3\n",
    "import csv\n",
    "conn = sqlite3.connect(\"book.db\")\n",
    "cursor = conn.cursor()\n",
    "with open(\"book.csv\",\"r\") as file:\n",
    "    book = csv.DictReader(file)\n",
    "    for books in book:\n",
    "        cursor.execute(\"INSERT INTO Book VALUES (?,?,?)\",(books['title'],books['author'],books['year']))\n",
    "conn.commit()\n",
    "conn.close()"
   ]
  },
  {
   "cell_type": "markdown",
   "id": "ce3eb9b3",
   "metadata": {},
   "source": [
    "## ========================================================================"
   ]
  },
  {
   "cell_type": "markdown",
   "id": "17865047",
   "metadata": {},
   "source": [
    "## Q.6. Select and print the title column from the books table in alphabetical order.\n",
    "### Solution :-"
   ]
  },
  {
   "cell_type": "code",
   "execution_count": 22,
   "id": "89660251",
   "metadata": {},
   "outputs": [
    {
     "name": "stdout",
     "output_type": "stream",
     "text": [
      "Perdido Street Station\n",
      "Small Gods\n",
      "The Spellman Files\n",
      "The Weirdstone of Brisingamen\n",
      "Thud!\n"
     ]
    }
   ],
   "source": [
    "import sqlite3\n",
    "conn = sqlite3.connect('book.db')\n",
    "cursor = conn.cursor()\n",
    "output = cursor.execute(\"SELECT title FROM book ORDER BY title ASC\")\n",
    "for ele in output:\n",
    "    print(ele[0])\n",
    "conn.commit()\n",
    "conn.close()"
   ]
  },
  {
   "cell_type": "markdown",
   "id": "ef4ada56",
   "metadata": {},
   "source": [
    "## ========================================================================="
   ]
  },
  {
   "cell_type": "markdown",
   "id": "b29b1782",
   "metadata": {},
   "source": [
    "## Q.7. From the books table, select and print all columns in the order of publication.\n",
    "### Solution :-"
   ]
  },
  {
   "cell_type": "code",
   "execution_count": 23,
   "id": "0f8ba1ba",
   "metadata": {},
   "outputs": [
    {
     "name": "stdout",
     "output_type": "stream",
     "text": [
      "('The Weirdstone of Brisingamen', 'Alan Garner', 1960)\n",
      "('Small Gods', 'Terry Pratchett', 1992)\n",
      "('Perdido Street Station', 'China Miéville', 2000)\n",
      "('Thud!', 'Terry Pratchett', 2005)\n",
      "('The Spellman Files', 'Lisa Lutz', 2007)\n"
     ]
    }
   ],
   "source": [
    "import sqlite3\n",
    "conn = sqlite3.connect('book.db')\n",
    "cursor = conn.cursor()\n",
    "ouput = cursor.execute(\"SELECT * FROM book ORDER BY year\")\n",
    "for record in ouput:\n",
    "    print(record)"
   ]
  },
  {
   "cell_type": "markdown",
   "id": "55bedce5",
   "metadata": {},
   "source": [
    "## ========================================================================"
   ]
  },
  {
   "cell_type": "markdown",
   "id": "8a2efcd5",
   "metadata": {},
   "source": [
    "## Q.8. Use the sqlalchemy module to connect to the sqlite3 database books.db that you just made in exercise 6.\n",
    "### Solution :-"
   ]
  },
  {
   "cell_type": "code",
   "execution_count": 24,
   "id": "04572b0f",
   "metadata": {},
   "outputs": [
    {
     "data": {
      "text/plain": [
       "Engine(sqlite:///books.db)"
      ]
     },
     "execution_count": 24,
     "metadata": {},
     "output_type": "execute_result"
    }
   ],
   "source": [
    "import sqlalchemy\n",
    "conn = sqlalchemy.create_engine('sqlite:///books.db')\n",
    "conn"
   ]
  },
  {
   "cell_type": "markdown",
   "id": "66734728",
   "metadata": {},
   "source": [
    "## ========================================================================="
   ]
  },
  {
   "cell_type": "markdown",
   "id": "15c6a07b",
   "metadata": {},
   "source": [
    "## Q.9. Install the Redis server and the Python redis library (pip install redis) on your computer. Create a Redis hash called test with the fields count (1) and name ('Fester Bestertester'). Print all the fields for test.\n",
    "### Solution :-"
   ]
  },
  {
   "cell_type": "code",
   "execution_count": 1,
   "id": "6e75f05a",
   "metadata": {},
   "outputs": [
    {
     "name": "stdout",
     "output_type": "stream",
     "text": [
      "Requirement already satisfied: redis in c:\\users\\hp\\anaconda3\\lib\\site-packages (5.0.1)\n",
      "Requirement already satisfied: async-timeout>=4.0.2 in c:\\users\\hp\\anaconda3\\lib\\site-packages (from redis) (4.0.3)\n"
     ]
    }
   ],
   "source": [
    "!pip install redis"
   ]
  },
  {
   "cell_type": "markdown",
   "id": "91ad7777",
   "metadata": {},
   "source": [
    "import redis\n",
    "conn = redis.Redis()\n",
    "conn.hset('test',{\n",
    "    'count':1,\n",
    "    'name':'Fester Bestertester'\n",
    "})\n",
    "conn.hgetall('test')"
   ]
  },
  {
   "cell_type": "markdown",
   "id": "598f6b1b",
   "metadata": {},
   "source": [
    "## ========================================================================="
   ]
  },
  {
   "cell_type": "markdown",
   "id": "9f834582",
   "metadata": {},
   "source": [
    "## Q.10. Increment the count field of test and print it.\n",
    "### Solution :-"
   ]
  },
  {
   "cell_type": "markdown",
   "id": "29cf5fb6",
   "metadata": {},
   "source": [
    "conn.hincrby('test', 'count', 1)\n",
    "conn.hget('test', 'count')"
   ]
  },
  {
   "cell_type": "markdown",
   "id": "bdddb61b",
   "metadata": {},
   "source": [
    "## ========================================================================"
   ]
  },
  {
   "cell_type": "code",
   "execution_count": null,
   "id": "d2140b80",
   "metadata": {},
   "outputs": [],
   "source": []
  }
 ],
 "metadata": {
  "kernelspec": {
   "display_name": "Python 3 (ipykernel)",
   "language": "python",
   "name": "python3"
  },
  "language_info": {
   "codemirror_mode": {
    "name": "ipython",
    "version": 3
   },
   "file_extension": ".py",
   "mimetype": "text/x-python",
   "name": "python",
   "nbconvert_exporter": "python",
   "pygments_lexer": "ipython3",
   "version": "3.9.12"
  }
 },
 "nbformat": 4,
 "nbformat_minor": 5
}
