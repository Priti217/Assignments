{
 "cells": [
  {
   "cell_type": "markdown",
   "id": "42ea1062",
   "metadata": {},
   "source": [
    "## Q.1.How many seconds are in an hour? Use the interactive interpreter as a calculator and multiply the number of seconds in a minute (60) by the number of minutes in an hour (also 60).\n",
    "### Solution:-"
   ]
  },
  {
   "cell_type": "code",
   "execution_count": 1,
   "id": "b0084949",
   "metadata": {},
   "outputs": [
    {
     "name": "stdout",
     "output_type": "stream",
     "text": [
      "3600\n"
     ]
    }
   ],
   "source": [
    "print(60*60)"
   ]
  },
  {
   "cell_type": "markdown",
   "id": "db5cda5b",
   "metadata": {},
   "source": [
    "## ======================================================================="
   ]
  },
  {
   "cell_type": "markdown",
   "id": "e6a665b3",
   "metadata": {},
   "source": [
    "## Q.2. Assign the result from the previous task (seconds in an hour) to a variable called seconds_per_hour.\n",
    "### Solution :-"
   ]
  },
  {
   "cell_type": "markdown",
   "id": "2b049651",
   "metadata": {},
   "source": [
    "seconds_per_hour = 60*60\n",
    "print(seconds_per_hour)"
   ]
  },
  {
   "cell_type": "markdown",
   "id": "63b838bc",
   "metadata": {},
   "source": [
    "## ========================================================================"
   ]
  },
  {
   "cell_type": "markdown",
   "id": "d2613ef1",
   "metadata": {},
   "source": [
    "## Q.3. How many seconds do you think there are in a day? Make use of the variables seconds per hour and minutes per hour.\n",
    "### Solution:-"
   ]
  },
  {
   "cell_type": "code",
   "execution_count": 3,
   "id": "aa13584d",
   "metadata": {},
   "outputs": [
    {
     "name": "stdout",
     "output_type": "stream",
     "text": [
      "86400\n"
     ]
    }
   ],
   "source": [
    "minutes_per_hour = 60\n",
    "print(seconds_per_hour*24)"
   ]
  },
  {
   "cell_type": "markdown",
   "id": "8b61cb39",
   "metadata": {},
   "source": [
    "## ========================================================================"
   ]
  },
  {
   "cell_type": "markdown",
   "id": "060067d0",
   "metadata": {},
   "source": [
    "## Q.4. Calculate seconds per day again, but this time save the result in a variable called seconds_per_day\n",
    "### Solution:-"
   ]
  },
  {
   "cell_type": "code",
   "execution_count": 4,
   "id": "0a02d621",
   "metadata": {},
   "outputs": [
    {
     "name": "stdout",
     "output_type": "stream",
     "text": [
      "86400\n"
     ]
    }
   ],
   "source": [
    "seconds_per_day = 24*60*60\n",
    "print(seconds_per_day)"
   ]
  },
  {
   "cell_type": "markdown",
   "id": "1b769860",
   "metadata": {},
   "source": [
    "## ========================================================================"
   ]
  },
  {
   "cell_type": "markdown",
   "id": "c956f0a3",
   "metadata": {},
   "source": [
    "## Q.5. Divide seconds_per_day by seconds_per_hour. Use floating-point (/) division.\n",
    "### Solution:-"
   ]
  },
  {
   "cell_type": "code",
   "execution_count": 5,
   "id": "9ebe4637",
   "metadata": {},
   "outputs": [
    {
     "name": "stdout",
     "output_type": "stream",
     "text": [
      "24.0\n"
     ]
    }
   ],
   "source": [
    "print(seconds_per_day/seconds_per_hour)"
   ]
  },
  {
   "cell_type": "markdown",
   "id": "3cecde5e",
   "metadata": {},
   "source": [
    "## ======================================================================="
   ]
  },
  {
   "cell_type": "markdown",
   "id": "5ab75cd1",
   "metadata": {},
   "source": [
    "## Q.6. Divide seconds_per_day by seconds_per_hour, using integer (//) division. Did this number agree with the floating-point value from the previous question, aside from the final .0?\n",
    "### solution:-"
   ]
  },
  {
   "cell_type": "code",
   "execution_count": 6,
   "id": "e777374d",
   "metadata": {},
   "outputs": [
    {
     "name": "stdout",
     "output_type": "stream",
     "text": [
      "24 -> yes this values agree with the floating point value from the previous question\n"
     ]
    }
   ],
   "source": [
    "print(seconds_per_day//seconds_per_hour, end='')\n",
    "print(' -> yes this values agree with the floating point value from the previous question')"
   ]
  },
  {
   "cell_type": "markdown",
   "id": "d9e10733",
   "metadata": {},
   "source": [
    "## ========================================================================="
   ]
  },
  {
   "cell_type": "markdown",
   "id": "e25c6ee3",
   "metadata": {},
   "source": [
    "## Q.7. Write a generator, genPrimes, that returns the sequence of prime numbers on successive calls to its next() method: 2, 3, 5, 7, 11, ...\n",
    "### Solution:-"
   ]
  },
  {
   "cell_type": "code",
   "execution_count": 7,
   "id": "da866671",
   "metadata": {},
   "outputs": [
    {
     "name": "stdout",
     "output_type": "stream",
     "text": [
      "2\n",
      "3\n",
      "5\n",
      "7\n",
      "11\n"
     ]
    }
   ],
   "source": [
    "def genPrimes():\n",
    "    n = 0\n",
    "    while True:\n",
    "        if n == 2 or n == 3 :\n",
    "            yield n\n",
    "        elif ((n-1)%6 == 0 or (n+1)%6 == 0) and n !=1:\n",
    "            yield n\n",
    "        n = n+1\n",
    "        \n",
    "output = genPrimes()\n",
    "for ele in range(5):\n",
    "    print(next(output))"
   ]
  },
  {
   "cell_type": "markdown",
   "id": "81acab4c",
   "metadata": {},
   "source": [
    "## ======================================================================="
   ]
  }
 ],
 "metadata": {
  "kernelspec": {
   "display_name": "Python 3 (ipykernel)",
   "language": "python",
   "name": "python3"
  },
  "language_info": {
   "codemirror_mode": {
    "name": "ipython",
    "version": 3
   },
   "file_extension": ".py",
   "mimetype": "text/x-python",
   "name": "python",
   "nbconvert_exporter": "python",
   "pygments_lexer": "ipython3",
   "version": "3.9.12"
  }
 },
 "nbformat": 4,
 "nbformat_minor": 5
}
