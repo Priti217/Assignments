{
 "cells": [
  {
   "cell_type": "markdown",
   "id": "67527346",
   "metadata": {},
   "source": [
    "## Q.1. What does RGBA stand for?\n",
    "### Solution:-\n",
    "RGBA is a four-channel format containing data for Red, Green, Blue, and an Alpha value. Where Alpha Represents the Opacity"
   ]
  },
  {
   "cell_type": "markdown",
   "id": "e6816ebb",
   "metadata": {},
   "source": [
    "## ====================================================================="
   ]
  },
  {
   "cell_type": "markdown",
   "id": "de4ae2f2",
   "metadata": {},
   "source": [
    "## Q.2. From the Pillow module, how do you get the RGBA value of any images?\n",
    "### solution:- \n",
    "ImageColor.getcolor() gives rgba value of any image"
   ]
  },
  {
   "cell_type": "markdown",
   "id": "9b93b11b",
   "metadata": {},
   "source": [
    "## ======================================================================"
   ]
  },
  {
   "cell_type": "markdown",
   "id": "3fb4f8a5",
   "metadata": {},
   "source": [
    "## Q.3. What is a box tuple, and how does it work?\n",
    "### Solution:-\n",
    "A box tuple is a tuple value of four integers: the left-edge x-coordinate, the top-edge y-coordinate,the width, and the height, respectively."
   ]
  },
  {
   "cell_type": "markdown",
   "id": "dc32dc71",
   "metadata": {},
   "source": [
    "## ======================================================================="
   ]
  },
  {
   "cell_type": "markdown",
   "id": "86c176f0",
   "metadata": {},
   "source": [
    "## Q.4. Use your image and load in notebook then, How can you find out the width and height of an Image object?\n",
    "### solution :-\n"
   ]
  },
  {
   "cell_type": "code",
   "execution_count": 1,
   "id": "5fa748aa",
   "metadata": {},
   "outputs": [
    {
     "name": "stdout",
     "output_type": "stream",
     "text": [
      "Width, Height -> (1200, 900)\n",
      "Width, Height -> 1200,900\n",
      "Width, Height -> 1200,900\n"
     ]
    }
   ],
   "source": [
    "#Example Program\n",
    "from PIL import Image\n",
    "pic = Image.open('77669744.jpg')\n",
    "print(f'Width, Height -> {pic.size}') # Approach 1\n",
    "print(f'Width, Height -> {pic.width},{pic.height}') # Approach 2\n",
    "width,height = pic.size\n",
    "print(f'Width, Height -> {width},{height}') # Approach 3"
   ]
  },
  {
   "cell_type": "markdown",
   "id": "e5149e0c",
   "metadata": {},
   "source": [
    "## ========================================================================="
   ]
  },
  {
   "cell_type": "markdown",
   "id": "ba910214",
   "metadata": {},
   "source": [
    "## Q.5. What method would you call to get Image object for a 100×100 image, excluding the lower-left quarter of it?\n",
    "### Solution :-"
   ]
  },
  {
   "cell_type": "code",
   "execution_count": 2,
   "id": "c99d568a",
   "metadata": {},
   "outputs": [],
   "source": [
    "from PIL import Image\n",
    "img = Image.open('77669744.jpg')\n",
    "new_img = img.crop((0,50,50,50))"
   ]
  },
  {
   "cell_type": "markdown",
   "id": "a017d0e9",
   "metadata": {},
   "source": [
    "## ========================================================================"
   ]
  },
  {
   "cell_type": "markdown",
   "id": "a2f5dc5d",
   "metadata": {},
   "source": [
    "## Q.6. After making changes to an Image object, how could you save it as an image file?\n",
    "### Solution:-"
   ]
  },
  {
   "cell_type": "code",
   "execution_count": 3,
   "id": "6960a9b9",
   "metadata": {},
   "outputs": [],
   "source": [
    "#Example Program\n",
    "from PIL import Image\n",
    "pic = Image.open('77669744.jpg')\n",
    "pic.save('ABC.jpg')"
   ]
  },
  {
   "cell_type": "markdown",
   "id": "3d50c473",
   "metadata": {},
   "source": [
    "## ========================================================================"
   ]
  },
  {
   "cell_type": "markdown",
   "id": "53956488",
   "metadata": {},
   "source": [
    "## Q.7. What module contains Pillow’s shape-drawing code?\n",
    "### Solution:-\n",
    "Pillows ImageDraw module contains Shape drawing methods"
   ]
  },
  {
   "cell_type": "markdown",
   "id": "78b42736",
   "metadata": {},
   "source": [
    "## ========================================================================"
   ]
  },
  {
   "cell_type": "markdown",
   "id": "6a43da90",
   "metadata": {},
   "source": [
    "## Q.8. Image objects do not have drawing methods. What kind of object does? How do you get this kind of object?\n",
    "### Solution:-\n",
    "ImageDraw objects have shape-drawing methods such as point(), line(), or rectangle().They are returned by passing the Image object to the ImageDraw.Draw() function."
   ]
  },
  {
   "cell_type": "markdown",
   "id": "170d4b20",
   "metadata": {},
   "source": [
    "## ========================================================================="
   ]
  },
  {
   "cell_type": "code",
   "execution_count": null,
   "id": "aa2df862",
   "metadata": {},
   "outputs": [],
   "source": []
  }
 ],
 "metadata": {
  "kernelspec": {
   "display_name": "Python 3 (ipykernel)",
   "language": "python",
   "name": "python3"
  },
  "language_info": {
   "codemirror_mode": {
    "name": "ipython",
    "version": 3
   },
   "file_extension": ".py",
   "mimetype": "text/x-python",
   "name": "python",
   "nbconvert_exporter": "python",
   "pygments_lexer": "ipython3",
   "version": "3.9.12"
  }
 },
 "nbformat": 4,
 "nbformat_minor": 5
}
