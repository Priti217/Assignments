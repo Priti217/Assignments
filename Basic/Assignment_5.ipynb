{
 "cells": [
  {
   "cell_type": "markdown",
   "id": "586a5865",
   "metadata": {},
   "source": [
    "# Q.1.What does an empty dictionary's code look like?\n",
    "## Solution: \n",
    "An empty dictionary is often represented by two empty curly brackets\n",
    "d = {} or d = dict()"
   ]
  },
  {
   "cell_type": "markdown",
   "id": "3b9d464f",
   "metadata": {},
   "source": [
    "## =========================================================="
   ]
  },
  {
   "cell_type": "markdown",
   "id": "b8f4049b",
   "metadata": {},
   "source": [
    "# Q.2.what is the value of dictionary value with key 'foo' and the value 42 ?\n",
    "Ans: {'foo':42}"
   ]
  },
  {
   "cell_type": "markdown",
   "id": "c2db0573",
   "metadata": {},
   "source": [
    "## =========================================================="
   ]
  },
  {
   "cell_type": "markdown",
   "id": "7a5463e0",
   "metadata": {},
   "source": [
    "# Q.3.What is the most significant distinction between a dictionary and a list?\n",
    "## Solution: \n",
    "Dictionaries are represented by {} where as listed are represented by []\n",
    "The Items stored in a dictionary are Unordered , while the items in a list are ordered"
   ]
  },
  {
   "cell_type": "markdown",
   "id": "d4a1f862",
   "metadata": {},
   "source": [
    "##  ============================================================\n"
   ]
  },
  {
   "cell_type": "markdown",
   "id": "edc7421a",
   "metadata": {},
   "source": [
    "# Q.4.What happens if you try to access spam ['foo'] if spam is {'bar':100} ?\n",
    "## Solution: \n",
    "we will get a keyError KeyError: 'foo'"
   ]
  },
  {
   "cell_type": "markdown",
   "id": "15e9dff7",
   "metadata": {},
   "source": [
    "## ============================================================"
   ]
  },
  {
   "cell_type": "markdown",
   "id": "65422bfb",
   "metadata": {},
   "source": [
    "# Q.5.if a dictionary is stored in spam,what is the difference between the expressions 'cat' in spam and 'cat' in spam.keys() ?\n",
    "## Solution: \n",
    "There is no difference . The operator checks whether a value exits as a key in the dictionary or not"
   ]
  },
  {
   "cell_type": "markdown",
   "id": "a9d5599e",
   "metadata": {},
   "source": [
    "## ============================================================"
   ]
  },
  {
   "cell_type": "markdown",
   "id": "02722380",
   "metadata": {},
   "source": [
    "# Q.6.if a dictionary is stored in spam,what is the difference between the expressions 'cat' in spam and 'cat' in spam.values() ?\n",
    "## Solution:\n",
    "'cat' in spam checks whether there is a 'cat' key in the dictionary, while 'cat' in spam.values() checks whether there is a value 'cat' for one of the keys in spam."
   ]
  },
  {
   "cell_type": "markdown",
   "id": "6a5bfd15",
   "metadata": {},
   "source": [
    "## =============================================================="
   ]
  },
  {
   "cell_type": "markdown",
   "id": "13ff3746",
   "metadata": {},
   "source": [
    "# Q.7.what is a shortcut for the following code ?if 'color' not in spam: spam['color'] ='black'\n",
    "\n",
    "## Solution:\n",
    "spam.setdefault('color','black')"
   ]
  },
  {
   "cell_type": "markdown",
   "id": "a1fbc2cb",
   "metadata": {},
   "source": [
    "## ==============================================================="
   ]
  },
  {
   "cell_type": "markdown",
   "id": "f9ba153f",
   "metadata": {},
   "source": [
    "# Q.8.How do you 'pretty print' dictionary values using which modules and function ?\n",
    "## solution: \n",
    "we can pretty print a dictionary using three functions\n",
    "\n",
    "1.by using pprint() function of pprint module\n",
    "\n",
    "     Note: pprint() function doesnot prettify nested dictionaries\n",
    "   \n",
    "2.by using dumps() method of json module\n",
    "\n",
    "3.by using dumps() method of yaml module"
   ]
  },
  {
   "cell_type": "markdown",
   "id": "99d438b2",
   "metadata": {},
   "source": [
    "## ============================================================"
   ]
  },
  {
   "cell_type": "code",
   "execution_count": null,
   "id": "f7fc5bbe",
   "metadata": {},
   "outputs": [],
   "source": []
  }
 ],
 "metadata": {
  "kernelspec": {
   "display_name": "Python 3 (ipykernel)",
   "language": "python",
   "name": "python3"
  },
  "language_info": {
   "codemirror_mode": {
    "name": "ipython",
    "version": 3
   },
   "file_extension": ".py",
   "mimetype": "text/x-python",
   "name": "python",
   "nbconvert_exporter": "python",
   "pygments_lexer": "ipython3",
   "version": "3.9.12"
  }
 },
 "nbformat": 4,
 "nbformat_minor": 5
}
