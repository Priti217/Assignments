{
 "cells": [
  {
   "cell_type": "markdown",
   "id": "11bc30f2",
   "metadata": {},
   "source": [
    "## Q.1. In what modes should the PdfFileReader() and PdfFileWriter() File objects will be opened?\n",
    "### Solution:-\n",
    "For PdfFileReader() file objects should be opened in rb -> read binary mode, Whereas for PdfFileWriter() file objects should be opened in wb -> write binary mode."
   ]
  },
  {
   "cell_type": "markdown",
   "id": "e3994d11",
   "metadata": {},
   "source": [
    "## ====================================================================="
   ]
  },
  {
   "cell_type": "markdown",
   "id": "8b4071c2",
   "metadata": {},
   "source": [
    "## Q.2. From a PdfFileReader object, how do you get a Page object for page 5?\n",
    "### Solution:-\n",
    "PdfFileReader class provides a method called getPage(page_no) to get a page object\n",
    "\n",
    "\n",
    "##### Example code:\n",
    "from PyPDF2 import PdfFileReader\n",
    "\n",
    "pdf_reader = PdfFileReader(file_path)\n",
    "\n",
    "for page in pdf_reader.getNumPages():\n",
    "\n",
    "    pdf_reader.getPage(page)"
   ]
  },
  {
   "cell_type": "markdown",
   "id": "d3ab6cb2",
   "metadata": {},
   "source": [
    "## ====================================================================="
   ]
  },
  {
   "cell_type": "markdown",
   "id": "fd3c16c5",
   "metadata": {},
   "source": [
    "## Q.3. What PdfFileReader variable stores the number of pages in the PDF document?\n",
    "### Solution:-\n",
    "getNumPages() method of PdfFileReader class stores the no pages in a PDF document\n",
    "\n",
    "#### Example Code:\n",
    "\n",
    "from PyPDF2 import PdfFileReader\n",
    "\n",
    "pdf_reader = PdfFileReader(file_path)\n",
    "\n",
    "print(pdf_reader.getNumPages()) # Prints the no of pages in a input document"
   ]
  },
  {
   "cell_type": "markdown",
   "id": "d22504a7",
   "metadata": {},
   "source": [
    "## ======================================================================"
   ]
  },
  {
   "cell_type": "markdown",
   "id": "e36f94ec",
   "metadata": {},
   "source": [
    "## 4. If a PdfFileReader object’s PDF is encrypted with the password swordfish, what must you do before you can obtain Page objects from it?\n",
    "### Solution:-\n",
    "If a PdfFileReader object’s PDF is encrypted with the password swordfish and you're not aware of it. first read the Pdf using the PdfFileReader Class. PdfFileReader class provides a attribute called isEncrypted to check whether a pdf is encrypted or not. the method returns true if a pdf is encrypted and vice versa.\n",
    "\n",
    "if pdf is encrypted use the decrypt() method provided by PdfFileReader class first then try to read the contents/pages of the pdf, else PyPDF2 will raise the following error PyPDF2.utils.PdfReadError: file has not been decrypted\n",
    "\n",
    "#### Example Code:\n",
    "\n",
    "from PyPDF2 import PdfFileReader\n",
    "\n",
    "pdf_reader = PdfFileReader(file_path)\n",
    "\n",
    "if pdf_reader.isEncrypted:    # to check whether the pdf is encrypted or not\n",
    "\n",
    "    pdf_reader.decrypt(\"swordfish\")\n",
    "    \n",
    "for page in pdf_reader.pages:\n",
    "\n",
    "    print(page.extractText()) # to print the text data of a page from pdf"
   ]
  },
  {
   "cell_type": "markdown",
   "id": "99bb8c4f",
   "metadata": {},
   "source": [
    "## ======================================================================"
   ]
  },
  {
   "cell_type": "markdown",
   "id": "6ce62eef",
   "metadata": {},
   "source": [
    "## Q.5. What methods do you use to rotate a page?\n",
    "### Solution:-\n",
    "PyPDF2 Package provides 2 methods to rotate a page:\n",
    "\n",
    "1. rotateClockWise() -> For Clockwise rotation\n",
    "\n",
    "2. rotateCounterClockWise() -> For Counter Clockwise rotation\n",
    "\n",
    "The PyPDF2 package only allows you to rotate a page in increments of 90 degrees. You will receive an AssertionError otherwise."
   ]
  },
  {
   "cell_type": "markdown",
   "id": "5f9e3b40",
   "metadata": {},
   "source": [
    "## ======================================================================"
   ]
  },
  {
   "cell_type": "markdown",
   "id": "72791366",
   "metadata": {},
   "source": [
    "## Q.6. What is the difference between a Run object and a Paragraph object?\n",
    "### Solution :-\n",
    "The structure of a document is represented by three different data types in python-Docx. At the highest level, a Document object represents the entire document. The Document object contains a list of Paragraph objects for the paragraphs in the document. (A new paragraph begins whenever the user presses ENTER or RETURN while typing in a Word document.) Each of these Paragraph objects contains a list of one or more Run objects.\n",
    "\n",
    "The text in a Word document is more than just a string. It has font, size, color, and other styling information associated with it. A style in Word is a collection of these attributes. A Run object is a contiguous run of text with the same style. A new Run object is needed whenever the text style changes."
   ]
  },
  {
   "cell_type": "markdown",
   "id": "fd1246a9",
   "metadata": {},
   "source": [
    "## ======================================================================"
   ]
  },
  {
   "cell_type": "markdown",
   "id": "533d38e3",
   "metadata": {},
   "source": [
    "## Q.7. How do you obtain a list of Paragraph objects for a Document object that’s stored in a variable named doc?\n",
    "### Solution :-"
   ]
  },
  {
   "cell_type": "code",
   "execution_count": null,
   "id": "43d4a33e",
   "metadata": {},
   "outputs": [],
   "source": [
    "# Example Program\n",
    "from docx import Document\n",
    "doc = Document(\"sample_file.docx\") # Path of the Docx file\n",
    "print(doc.paragraphs) # Prints the list of Paragraph objects for a Document\n",
    "for paragraph in doc.paragraphs:\n",
    "    print(paragraph.text) # Prints the text in the paragraph"
   ]
  },
  {
   "cell_type": "markdown",
   "id": "d09ab519",
   "metadata": {},
   "source": [
    "## ===================================================================="
   ]
  },
  {
   "cell_type": "markdown",
   "id": "61ce36a6",
   "metadata": {},
   "source": [
    "## Q.8. What type of object has bold, underline, italic, strike, and outline variables?\n",
    "### Solution:-\n",
    "Run object has bold, underline, italic, strike, and outline variables. The text in a Word document is more than just a string. It has font, size, color, and other styling information associated with it.\n",
    "\n",
    "A style in Word is a collection of these attributes. A Run object is a contiguous run of text with the same style. A new Run object is needed whenever the text style changes."
   ]
  },
  {
   "cell_type": "markdown",
   "id": "96a091a6",
   "metadata": {},
   "source": [
    "## ====================================================================="
   ]
  },
  {
   "cell_type": "markdown",
   "id": "434f7840",
   "metadata": {},
   "source": [
    "## Q.9. What is the difference between False, True, and None for the bold variable?\n",
    "### Solution :-"
   ]
  },
  {
   "cell_type": "code",
   "execution_count": 1,
   "id": "513f2045",
   "metadata": {},
   "outputs": [],
   "source": [
    "bold = True  # Style Set to Bold\n",
    "bold = False # Style Not Set to Bold\n",
    "bold = None # Style is Not Applicable"
   ]
  },
  {
   "cell_type": "markdown",
   "id": "6beccead",
   "metadata": {},
   "source": [
    "## ======================================================================"
   ]
  },
  {
   "cell_type": "markdown",
   "id": "960b7077",
   "metadata": {},
   "source": [
    "## Q.10. How do you create a Document object for a new Word document?\n",
    "### Solution :-"
   ]
  },
  {
   "cell_type": "code",
   "execution_count": null,
   "id": "f6245a54",
   "metadata": {},
   "outputs": [],
   "source": [
    "# Example Program\n",
    "from docx import Document\n",
    "document = Document()\n",
    "document.add_paragraph(\"iNeuron Full Stack DataScience Course\")\n",
    "document.save('mydocument.docx')"
   ]
  },
  {
   "cell_type": "markdown",
   "id": "24f8809a",
   "metadata": {},
   "source": [
    "## ======================================================================"
   ]
  },
  {
   "cell_type": "markdown",
   "id": "b8f1f013",
   "metadata": {},
   "source": [
    "## Q.11. How do you add a paragraph with the text 'Hello, there!' to a Document object stored in a variable named doc?\n",
    "### Solution :-"
   ]
  },
  {
   "cell_type": "code",
   "execution_count": null,
   "id": "8301eee2",
   "metadata": {},
   "outputs": [],
   "source": [
    "# Example Program\n",
    "from docx import Document\n",
    "doc = Document()\n",
    "doc.add_paragraph('Hello, there!')\n",
    "doc.save('hello.docx')"
   ]
  },
  {
   "cell_type": "markdown",
   "id": "98caed8d",
   "metadata": {},
   "source": [
    "## ======================================================================"
   ]
  },
  {
   "cell_type": "markdown",
   "id": "335a76bb",
   "metadata": {},
   "source": [
    "## Q.12. What integers represent the levels of headings available in Word documents?\n",
    "### Solution:-\n",
    "The levels for a heading in a word document can be specified by using the level attribute inside the add_heading method. There are a total of 5 levels statring for 0 t0 4. where level 0 makes a headline with the horizontal line below the text, whereas the heading level 1 is the main heading. Similarly, the other headings are sub-heading with their's font-sizes in decreasing order."
   ]
  },
  {
   "cell_type": "markdown",
   "id": "f76b2602",
   "metadata": {},
   "source": [
    "## ======================================================================"
   ]
  },
  {
   "cell_type": "code",
   "execution_count": null,
   "id": "c03c1b89",
   "metadata": {},
   "outputs": [],
   "source": []
  }
 ],
 "metadata": {
  "kernelspec": {
   "display_name": "Python 3 (ipykernel)",
   "language": "python",
   "name": "python3"
  },
  "language_info": {
   "codemirror_mode": {
    "name": "ipython",
    "version": 3
   },
   "file_extension": ".py",
   "mimetype": "text/x-python",
   "name": "python",
   "nbconvert_exporter": "python",
   "pygments_lexer": "ipython3",
   "version": "3.9.12"
  }
 },
 "nbformat": 4,
 "nbformat_minor": 5
}
