{
 "cells": [
  {
   "cell_type": "markdown",
   "id": "6cbb332c",
   "metadata": {},
   "source": [
    "## Q.1. Is the Python Standard Library included with PyInputPlus?\n",
    "### Solution :-"
   ]
  },
  {
   "cell_type": "markdown",
   "id": "56818a0c",
   "metadata": {},
   "source": [
    "No, PyInputPlus is not a part of Python Standard Library, it needs to be installed explicitly using the command !pip install PyInputPlus"
   ]
  },
  {
   "cell_type": "markdown",
   "id": "05fb7fa6",
   "metadata": {},
   "source": [
    "## ===================================================================="
   ]
  },
  {
   "cell_type": "markdown",
   "id": "d6f6a44d",
   "metadata": {},
   "source": [
    "## Q.2. Why is PyInputPlus commonly imported with import pyinputplus as pypi?\n",
    "### Solution :-"
   ]
  },
  {
   "cell_type": "markdown",
   "id": "0ef774e2",
   "metadata": {},
   "source": [
    "You can import the module with import pyinputplus as pyip so that you can enter a shorter name when calling the module's functions."
   ]
  },
  {
   "cell_type": "markdown",
   "id": "3f770c5c",
   "metadata": {},
   "source": [
    "## ===================================================================="
   ]
  },
  {
   "cell_type": "markdown",
   "id": "6e3c746b",
   "metadata": {},
   "source": [
    "## Q.3. How do you distinguish between inputInt() and inputFloat()?\n",
    "### Solution:-"
   ]
  },
  {
   "cell_type": "markdown",
   "id": "2d0eba21",
   "metadata": {},
   "source": [
    "inputInt() function Accepts an integer value. This also takes additional parameters min, max, greaterThan and lessThan for bounds. And it always returns an int.\n",
    "\n",
    "Whereas inputFloat() function Accepts a floating-point numeric value. this also takes additional min, max, greaterThan and lessThan parameters. and always returns a float."
   ]
  },
  {
   "cell_type": "markdown",
   "id": "95c3cf19",
   "metadata": {},
   "source": [
    "## ===================================================================="
   ]
  },
  {
   "cell_type": "markdown",
   "id": "63dd2824",
   "metadata": {},
   "source": [
    "## Q.4. Using PyInputPlus, how do you ensure that the user enters a whole number between 0 and 99?\n",
    "### Solution :-"
   ]
  },
  {
   "cell_type": "markdown",
   "id": "8ea8f849",
   "metadata": {},
   "source": [
    "PyInputPlus module provides a function called as inputInt() which only returns only integer values. inorder to restrict the input between 0 and 99, i'ii use parameters like min & max to ensure that user enters the values between the defined range only.\n"
   ]
  },
  {
   "cell_type": "code",
   "execution_count": 14,
   "id": "060788d0",
   "metadata": {},
   "outputs": [
    {
     "name": "stdout",
     "output_type": "stream",
     "text": [
      "Enter a number: 35\n",
      "35\n"
     ]
    }
   ],
   "source": [
    "import pyinputplus as pyip \n",
    "wholenumber = pyip.inputInt(prompt='Enter a number: ', min=0, max=100) \n",
    "print(wholenumber)"
   ]
  },
  {
   "cell_type": "markdown",
   "id": "1fd74d13",
   "metadata": {},
   "source": [
    "## ====================================================================="
   ]
  },
  {
   "cell_type": "markdown",
   "id": "66de798d",
   "metadata": {},
   "source": [
    "## Q.5. What is transferred to the keyword arguments allowRegexes and blockRegexes?\n",
    "### Solution :-"
   ]
  },
  {
   "cell_type": "markdown",
   "id": "47f1c3d9",
   "metadata": {},
   "source": [
    "we can use allowRegexes and blockRegexes keyword arguments to take list of regular expression strings to determine what the pyinputplus function will reject or accept valid input."
   ]
  },
  {
   "cell_type": "markdown",
   "id": "423b1182",
   "metadata": {},
   "source": [
    "## ===================================================================="
   ]
  },
  {
   "cell_type": "markdown",
   "id": "34b92e67",
   "metadata": {},
   "source": [
    "## Q.6. If a blank input is entered three times, what does inputStr(limit=3) do?\n",
    "### Solution :-"
   ]
  },
  {
   "cell_type": "markdown",
   "id": "3fddd9dd",
   "metadata": {},
   "source": [
    "The statement inputStr(limit=3) will throw two exceptions ValidationException and RetryLimitException. The first exception is thrown because blank values are not allowed by inputStr() function by default. it we want to consider blank values as valid input, we have to set blank=True.\n",
    "\n",
    "The second exception is occured because we have reached the max limit we have specified by using limit parameter. inorder to avoid this exception we can use default parameter to return a default value when max limit is reached."
   ]
  },
  {
   "cell_type": "markdown",
   "id": "d8dd43fc",
   "metadata": {},
   "source": [
    "## ======================================================================="
   ]
  },
  {
   "cell_type": "markdown",
   "id": "e63c0974",
   "metadata": {},
   "source": [
    "## Q.7. If blank input is entered three times, what does inputStr(limit=3, default='hello') do?\n",
    "### Solution:-"
   ]
  },
  {
   "cell_type": "markdown",
   "id": "b71a26f8",
   "metadata": {},
   "source": [
    " Since the default parameter is set to hello. after blank input is entered three times instead of raising RetryLimitException exception. the function will return hello as response to the calling function"
   ]
  },
  {
   "cell_type": "markdown",
   "id": "dea34d13",
   "metadata": {},
   "source": [
    "## ======================================================================="
   ]
  },
  {
   "cell_type": "code",
   "execution_count": null,
   "id": "bc0507cd",
   "metadata": {},
   "outputs": [],
   "source": []
  }
 ],
 "metadata": {
  "kernelspec": {
   "display_name": "Python 3 (ipykernel)",
   "language": "python",
   "name": "python3"
  },
  "language_info": {
   "codemirror_mode": {
    "name": "ipython",
    "version": 3
   },
   "file_extension": ".py",
   "mimetype": "text/x-python",
   "name": "python",
   "nbconvert_exporter": "python",
   "pygments_lexer": "ipython3",
   "version": "3.9.12"
  }
 },
 "nbformat": 4,
 "nbformat_minor": 5
}
